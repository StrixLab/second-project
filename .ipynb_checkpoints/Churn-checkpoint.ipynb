{
 "cells": [
  {
   "cell_type": "markdown",
   "metadata": {
    "toc": true
   },
   "source": [
    "<h1>Содержание<span class=\"tocSkip\"></span></h1>\n",
    "<div class=\"toc\"><ul class=\"toc-item\"><li><span><a href=\"#Подготовка-данных\" data-toc-modified-id=\"Подготовка-данных-1\"><span class=\"toc-item-num\">1&nbsp;&nbsp;</span>Подготовка данных</a></span></li><li><span><a href=\"#Исследование-задачи\" data-toc-modified-id=\"Исследование-задачи-2\"><span class=\"toc-item-num\">2&nbsp;&nbsp;</span>Исследование задачи</a></span></li><li><span><a href=\"#Борьба-с-дисбалансом\" data-toc-modified-id=\"Борьба-с-дисбалансом-3\"><span class=\"toc-item-num\">3&nbsp;&nbsp;</span>Борьба с дисбалансом</a></span></li><li><span><a href=\"#Тестирование-модели\" data-toc-modified-id=\"Тестирование-модели-4\"><span class=\"toc-item-num\">4&nbsp;&nbsp;</span>Тестирование модели</a></span></li><li><span><a href=\"#Чек-лист-готовности-проекта\" data-toc-modified-id=\"Чек-лист-готовности-проекта-5\"><span class=\"toc-item-num\">5&nbsp;&nbsp;</span>Чек-лист готовности проекта</a></span></li></ul></div>"
   ]
  },
  {
   "cell_type": "markdown",
   "metadata": {},
   "source": [
    "# Отток клиентов"
   ]
  },
  {
   "cell_type": "markdown",
   "metadata": {},
   "source": [
    "Из «Бета-Банка» стали уходить клиенты. Каждый месяц. Немного, но заметно. Банковские маркетологи посчитали: сохранять текущих клиентов дешевле, чем привлекать новых.\n",
    "\n",
    "Нужно спрогнозировать, уйдёт клиент из банка в ближайшее время или нет. Вам предоставлены исторические данные о поведении клиентов и расторжении договоров с банком. \n",
    "\n",
    "Постройте модель с предельно большим значением *F1*-меры. Чтобы сдать проект успешно, нужно довести метрику до 0.59. Проверьте *F1*-меру на тестовой выборке самостоятельно.\n",
    "\n",
    "Дополнительно измеряйте *AUC-ROC*, сравнивайте её значение с *F1*-мерой.\n",
    "\n",
    "Источник данных: [https://www.kaggle.com/barelydedicated/bank-customer-churn-modeling](https://www.kaggle.com/barelydedicated/bank-customer-churn-modeling)"
   ]
  },
  {
   "cell_type": "markdown",
   "metadata": {},
   "source": [
    "## Подготовка данных"
   ]
  },
  {
   "cell_type": "code",
   "execution_count": 4,
   "metadata": {},
   "outputs": [],
   "source": [
    "import pandas as pd\n",
    "from sklearn.model_selection import train_test_split\n",
    "from sklearn.preprocessing import StandardScaler\n",
    "from sklearn.tree import DecisionTreeClassifier\n",
    "from sklearn.ensemble import RandomForestClassifier\n",
    "from sklearn.linear_model import LogisticRegression\n",
    "from sklearn.metrics import f1_score, roc_auc_score, roc_curve\n",
    "from sklearn.utils import shuffle\n",
    "import matplotlib.pyplot as plt"
   ]
  },
  {
   "cell_type": "code",
   "execution_count": 5,
   "metadata": {},
   "outputs": [
    {
     "name": "stdout",
     "output_type": "stream",
     "text": [
      "<class 'pandas.core.frame.DataFrame'>\n",
      "RangeIndex: 10000 entries, 0 to 9999\n",
      "Data columns (total 14 columns):\n",
      " #   Column           Non-Null Count  Dtype  \n",
      "---  ------           --------------  -----  \n",
      " 0   RowNumber        10000 non-null  int64  \n",
      " 1   CustomerId       10000 non-null  int64  \n",
      " 2   Surname          10000 non-null  object \n",
      " 3   CreditScore      10000 non-null  int64  \n",
      " 4   Geography        10000 non-null  object \n",
      " 5   Gender           10000 non-null  object \n",
      " 6   Age              10000 non-null  int64  \n",
      " 7   Tenure           9091 non-null   float64\n",
      " 8   Balance          10000 non-null  float64\n",
      " 9   NumOfProducts    10000 non-null  int64  \n",
      " 10  HasCrCard        10000 non-null  int64  \n",
      " 11  IsActiveMember   10000 non-null  int64  \n",
      " 12  EstimatedSalary  10000 non-null  float64\n",
      " 13  Exited           10000 non-null  int64  \n",
      "dtypes: float64(3), int64(8), object(3)\n",
      "memory usage: 1.1+ MB\n"
     ]
    }
   ],
   "source": [
    "\n",
    "data = pd.read_csv('Churn.csv')\n",
    "data.info()"
   ]
  },
  {
   "cell_type": "code",
   "execution_count": 6,
   "metadata": {},
   "outputs": [
    {
     "data": {
      "text/plain": [
       "0"
      ]
     },
     "execution_count": 6,
     "metadata": {},
     "output_type": "execute_result"
    }
   ],
   "source": [
    "#проверим данные на дубликаты\n",
    "data.duplicated().sum()"
   ]
  },
  {
   "cell_type": "code",
   "execution_count": 7,
   "metadata": {},
   "outputs": [
    {
     "data": {
      "text/html": [
       "<div>\n",
       "<style scoped>\n",
       "    .dataframe tbody tr th:only-of-type {\n",
       "        vertical-align: middle;\n",
       "    }\n",
       "\n",
       "    .dataframe tbody tr th {\n",
       "        vertical-align: top;\n",
       "    }\n",
       "\n",
       "    .dataframe thead th {\n",
       "        text-align: right;\n",
       "    }\n",
       "</style>\n",
       "<table border=\"1\" class=\"dataframe\">\n",
       "  <thead>\n",
       "    <tr style=\"text-align: right;\">\n",
       "      <th></th>\n",
       "      <th>RowNumber</th>\n",
       "      <th>CustomerId</th>\n",
       "      <th>Surname</th>\n",
       "      <th>CreditScore</th>\n",
       "      <th>Geography</th>\n",
       "      <th>Gender</th>\n",
       "      <th>Age</th>\n",
       "      <th>Tenure</th>\n",
       "      <th>Balance</th>\n",
       "      <th>NumOfProducts</th>\n",
       "      <th>HasCrCard</th>\n",
       "      <th>IsActiveMember</th>\n",
       "      <th>EstimatedSalary</th>\n",
       "      <th>Exited</th>\n",
       "    </tr>\n",
       "  </thead>\n",
       "  <tbody>\n",
       "    <tr>\n",
       "      <th>0</th>\n",
       "      <td>1</td>\n",
       "      <td>15634602</td>\n",
       "      <td>Hargrave</td>\n",
       "      <td>619</td>\n",
       "      <td>France</td>\n",
       "      <td>Female</td>\n",
       "      <td>42</td>\n",
       "      <td>2.0</td>\n",
       "      <td>0.00</td>\n",
       "      <td>1</td>\n",
       "      <td>1</td>\n",
       "      <td>1</td>\n",
       "      <td>101348.88</td>\n",
       "      <td>1</td>\n",
       "    </tr>\n",
       "    <tr>\n",
       "      <th>1</th>\n",
       "      <td>2</td>\n",
       "      <td>15647311</td>\n",
       "      <td>Hill</td>\n",
       "      <td>608</td>\n",
       "      <td>Spain</td>\n",
       "      <td>Female</td>\n",
       "      <td>41</td>\n",
       "      <td>1.0</td>\n",
       "      <td>83807.86</td>\n",
       "      <td>1</td>\n",
       "      <td>0</td>\n",
       "      <td>1</td>\n",
       "      <td>112542.58</td>\n",
       "      <td>0</td>\n",
       "    </tr>\n",
       "    <tr>\n",
       "      <th>2</th>\n",
       "      <td>3</td>\n",
       "      <td>15619304</td>\n",
       "      <td>Onio</td>\n",
       "      <td>502</td>\n",
       "      <td>France</td>\n",
       "      <td>Female</td>\n",
       "      <td>42</td>\n",
       "      <td>8.0</td>\n",
       "      <td>159660.80</td>\n",
       "      <td>3</td>\n",
       "      <td>1</td>\n",
       "      <td>0</td>\n",
       "      <td>113931.57</td>\n",
       "      <td>1</td>\n",
       "    </tr>\n",
       "    <tr>\n",
       "      <th>3</th>\n",
       "      <td>4</td>\n",
       "      <td>15701354</td>\n",
       "      <td>Boni</td>\n",
       "      <td>699</td>\n",
       "      <td>France</td>\n",
       "      <td>Female</td>\n",
       "      <td>39</td>\n",
       "      <td>1.0</td>\n",
       "      <td>0.00</td>\n",
       "      <td>2</td>\n",
       "      <td>0</td>\n",
       "      <td>0</td>\n",
       "      <td>93826.63</td>\n",
       "      <td>0</td>\n",
       "    </tr>\n",
       "    <tr>\n",
       "      <th>4</th>\n",
       "      <td>5</td>\n",
       "      <td>15737888</td>\n",
       "      <td>Mitchell</td>\n",
       "      <td>850</td>\n",
       "      <td>Spain</td>\n",
       "      <td>Female</td>\n",
       "      <td>43</td>\n",
       "      <td>2.0</td>\n",
       "      <td>125510.82</td>\n",
       "      <td>1</td>\n",
       "      <td>1</td>\n",
       "      <td>1</td>\n",
       "      <td>79084.10</td>\n",
       "      <td>0</td>\n",
       "    </tr>\n",
       "  </tbody>\n",
       "</table>\n",
       "</div>"
      ],
      "text/plain": [
       "   RowNumber  CustomerId   Surname  CreditScore Geography  Gender  Age  \\\n",
       "0          1    15634602  Hargrave          619    France  Female   42   \n",
       "1          2    15647311      Hill          608     Spain  Female   41   \n",
       "2          3    15619304      Onio          502    France  Female   42   \n",
       "3          4    15701354      Boni          699    France  Female   39   \n",
       "4          5    15737888  Mitchell          850     Spain  Female   43   \n",
       "\n",
       "   Tenure    Balance  NumOfProducts  HasCrCard  IsActiveMember  \\\n",
       "0     2.0       0.00              1          1               1   \n",
       "1     1.0   83807.86              1          0               1   \n",
       "2     8.0  159660.80              3          1               0   \n",
       "3     1.0       0.00              2          0               0   \n",
       "4     2.0  125510.82              1          1               1   \n",
       "\n",
       "   EstimatedSalary  Exited  \n",
       "0        101348.88       1  \n",
       "1        112542.58       0  \n",
       "2        113931.57       1  \n",
       "3         93826.63       0  \n",
       "4         79084.10       0  "
      ]
     },
     "execution_count": 7,
     "metadata": {},
     "output_type": "execute_result"
    }
   ],
   "source": [
    "data.head()"
   ]
  },
  {
   "cell_type": "markdown",
   "metadata": {},
   "source": [
    "Дубликатов нет, но в  данных присутствуют пропуски по признаку \"Tenure\". Так как их менее 10%, удалим такие строки из данных"
   ]
  },
  {
   "cell_type": "code",
   "execution_count": 8,
   "metadata": {},
   "outputs": [
    {
     "name": "stdout",
     "output_type": "stream",
     "text": [
      "<class 'pandas.core.frame.DataFrame'>\n",
      "Int64Index: 9091 entries, 0 to 9998\n",
      "Data columns (total 14 columns):\n",
      " #   Column           Non-Null Count  Dtype  \n",
      "---  ------           --------------  -----  \n",
      " 0   RowNumber        9091 non-null   int64  \n",
      " 1   CustomerId       9091 non-null   int64  \n",
      " 2   Surname          9091 non-null   object \n",
      " 3   CreditScore      9091 non-null   int64  \n",
      " 4   Geography        9091 non-null   object \n",
      " 5   Gender           9091 non-null   object \n",
      " 6   Age              9091 non-null   int64  \n",
      " 7   Tenure           9091 non-null   float64\n",
      " 8   Balance          9091 non-null   float64\n",
      " 9   NumOfProducts    9091 non-null   int64  \n",
      " 10  HasCrCard        9091 non-null   int64  \n",
      " 11  IsActiveMember   9091 non-null   int64  \n",
      " 12  EstimatedSalary  9091 non-null   float64\n",
      " 13  Exited           9091 non-null   int64  \n",
      "dtypes: float64(3), int64(8), object(3)\n",
      "memory usage: 1.0+ MB\n"
     ]
    }
   ],
   "source": [
    "data=data[data['Tenure']>=0]\n",
    "data.info()"
   ]
  },
  {
   "cell_type": "code",
   "execution_count": 9,
   "metadata": {},
   "outputs": [],
   "source": [
    "#Сократим количество признаков\n",
    "#Во-первых, назначим признак \"RowNumber\" новым индексом с удалением исходной колонки\n",
    "data = data.set_index('RowNumber')"
   ]
  },
  {
   "cell_type": "code",
   "execution_count": 10,
   "metadata": {},
   "outputs": [
    {
     "data": {
      "text/html": [
       "<div>\n",
       "<style scoped>\n",
       "    .dataframe tbody tr th:only-of-type {\n",
       "        vertical-align: middle;\n",
       "    }\n",
       "\n",
       "    .dataframe tbody tr th {\n",
       "        vertical-align: top;\n",
       "    }\n",
       "\n",
       "    .dataframe thead th {\n",
       "        text-align: right;\n",
       "    }\n",
       "</style>\n",
       "<table border=\"1\" class=\"dataframe\">\n",
       "  <thead>\n",
       "    <tr style=\"text-align: right;\">\n",
       "      <th></th>\n",
       "      <th>CreditScore</th>\n",
       "      <th>Geography</th>\n",
       "      <th>Gender</th>\n",
       "      <th>Age</th>\n",
       "      <th>Tenure</th>\n",
       "      <th>Balance</th>\n",
       "      <th>NumOfProducts</th>\n",
       "      <th>HasCrCard</th>\n",
       "      <th>IsActiveMember</th>\n",
       "      <th>EstimatedSalary</th>\n",
       "      <th>Exited</th>\n",
       "    </tr>\n",
       "    <tr>\n",
       "      <th>RowNumber</th>\n",
       "      <th></th>\n",
       "      <th></th>\n",
       "      <th></th>\n",
       "      <th></th>\n",
       "      <th></th>\n",
       "      <th></th>\n",
       "      <th></th>\n",
       "      <th></th>\n",
       "      <th></th>\n",
       "      <th></th>\n",
       "      <th></th>\n",
       "    </tr>\n",
       "  </thead>\n",
       "  <tbody>\n",
       "    <tr>\n",
       "      <th>1</th>\n",
       "      <td>619</td>\n",
       "      <td>France</td>\n",
       "      <td>Female</td>\n",
       "      <td>42</td>\n",
       "      <td>2.0</td>\n",
       "      <td>0.00</td>\n",
       "      <td>1</td>\n",
       "      <td>1</td>\n",
       "      <td>1</td>\n",
       "      <td>101348.88</td>\n",
       "      <td>1</td>\n",
       "    </tr>\n",
       "    <tr>\n",
       "      <th>2</th>\n",
       "      <td>608</td>\n",
       "      <td>Spain</td>\n",
       "      <td>Female</td>\n",
       "      <td>41</td>\n",
       "      <td>1.0</td>\n",
       "      <td>83807.86</td>\n",
       "      <td>1</td>\n",
       "      <td>0</td>\n",
       "      <td>1</td>\n",
       "      <td>112542.58</td>\n",
       "      <td>0</td>\n",
       "    </tr>\n",
       "    <tr>\n",
       "      <th>3</th>\n",
       "      <td>502</td>\n",
       "      <td>France</td>\n",
       "      <td>Female</td>\n",
       "      <td>42</td>\n",
       "      <td>8.0</td>\n",
       "      <td>159660.80</td>\n",
       "      <td>3</td>\n",
       "      <td>1</td>\n",
       "      <td>0</td>\n",
       "      <td>113931.57</td>\n",
       "      <td>1</td>\n",
       "    </tr>\n",
       "    <tr>\n",
       "      <th>4</th>\n",
       "      <td>699</td>\n",
       "      <td>France</td>\n",
       "      <td>Female</td>\n",
       "      <td>39</td>\n",
       "      <td>1.0</td>\n",
       "      <td>0.00</td>\n",
       "      <td>2</td>\n",
       "      <td>0</td>\n",
       "      <td>0</td>\n",
       "      <td>93826.63</td>\n",
       "      <td>0</td>\n",
       "    </tr>\n",
       "    <tr>\n",
       "      <th>5</th>\n",
       "      <td>850</td>\n",
       "      <td>Spain</td>\n",
       "      <td>Female</td>\n",
       "      <td>43</td>\n",
       "      <td>2.0</td>\n",
       "      <td>125510.82</td>\n",
       "      <td>1</td>\n",
       "      <td>1</td>\n",
       "      <td>1</td>\n",
       "      <td>79084.10</td>\n",
       "      <td>0</td>\n",
       "    </tr>\n",
       "  </tbody>\n",
       "</table>\n",
       "</div>"
      ],
      "text/plain": [
       "           CreditScore Geography  Gender  Age  Tenure    Balance  \\\n",
       "RowNumber                                                          \n",
       "1                  619    France  Female   42     2.0       0.00   \n",
       "2                  608     Spain  Female   41     1.0   83807.86   \n",
       "3                  502    France  Female   42     8.0  159660.80   \n",
       "4                  699    France  Female   39     1.0       0.00   \n",
       "5                  850     Spain  Female   43     2.0  125510.82   \n",
       "\n",
       "           NumOfProducts  HasCrCard  IsActiveMember  EstimatedSalary  Exited  \n",
       "RowNumber                                                                     \n",
       "1                      1          1               1        101348.88       1  \n",
       "2                      1          0               1        112542.58       0  \n",
       "3                      3          1               0        113931.57       1  \n",
       "4                      2          0               0         93826.63       0  \n",
       "5                      1          1               1         79084.10       0  "
      ]
     },
     "execution_count": 10,
     "metadata": {},
     "output_type": "execute_result"
    }
   ],
   "source": [
    "#Во-вторых, удалим признаки \"Surname\" и 'CustomerId', так как от них ничего зависеть не будет,\n",
    "\n",
    "data=data.drop(['Surname', 'CustomerId'], axis =1)\n",
    "data.head()"
   ]
  },
  {
   "cell_type": "code",
   "execution_count": 11,
   "metadata": {},
   "outputs": [
    {
     "data": {
      "text/html": [
       "<div>\n",
       "<style scoped>\n",
       "    .dataframe tbody tr th:only-of-type {\n",
       "        vertical-align: middle;\n",
       "    }\n",
       "\n",
       "    .dataframe tbody tr th {\n",
       "        vertical-align: top;\n",
       "    }\n",
       "\n",
       "    .dataframe thead th {\n",
       "        text-align: right;\n",
       "    }\n",
       "</style>\n",
       "<table border=\"1\" class=\"dataframe\">\n",
       "  <thead>\n",
       "    <tr style=\"text-align: right;\">\n",
       "      <th></th>\n",
       "      <th>CreditScore</th>\n",
       "      <th>Age</th>\n",
       "      <th>Tenure</th>\n",
       "      <th>Balance</th>\n",
       "      <th>NumOfProducts</th>\n",
       "      <th>HasCrCard</th>\n",
       "      <th>IsActiveMember</th>\n",
       "      <th>EstimatedSalary</th>\n",
       "      <th>Exited</th>\n",
       "    </tr>\n",
       "  </thead>\n",
       "  <tbody>\n",
       "    <tr>\n",
       "      <th>CreditScore</th>\n",
       "      <td>1.000000</td>\n",
       "      <td>-0.004504</td>\n",
       "      <td>-0.000062</td>\n",
       "      <td>0.002804</td>\n",
       "      <td>0.011090</td>\n",
       "      <td>-0.003937</td>\n",
       "      <td>0.030947</td>\n",
       "      <td>0.005182</td>\n",
       "      <td>-0.023950</td>\n",
       "    </tr>\n",
       "    <tr>\n",
       "      <th>Age</th>\n",
       "      <td>-0.004504</td>\n",
       "      <td>1.000000</td>\n",
       "      <td>-0.013134</td>\n",
       "      <td>0.031481</td>\n",
       "      <td>-0.031877</td>\n",
       "      <td>-0.014129</td>\n",
       "      <td>0.082269</td>\n",
       "      <td>-0.007037</td>\n",
       "      <td>0.283017</td>\n",
       "    </tr>\n",
       "    <tr>\n",
       "      <th>Tenure</th>\n",
       "      <td>-0.000062</td>\n",
       "      <td>-0.013134</td>\n",
       "      <td>1.000000</td>\n",
       "      <td>-0.007911</td>\n",
       "      <td>0.011979</td>\n",
       "      <td>0.027232</td>\n",
       "      <td>-0.032178</td>\n",
       "      <td>0.010520</td>\n",
       "      <td>-0.016761</td>\n",
       "    </tr>\n",
       "    <tr>\n",
       "      <th>Balance</th>\n",
       "      <td>0.002804</td>\n",
       "      <td>0.031481</td>\n",
       "      <td>-0.007911</td>\n",
       "      <td>1.000000</td>\n",
       "      <td>-0.301858</td>\n",
       "      <td>-0.019055</td>\n",
       "      <td>-0.003285</td>\n",
       "      <td>0.014351</td>\n",
       "      <td>0.117218</td>\n",
       "    </tr>\n",
       "    <tr>\n",
       "      <th>NumOfProducts</th>\n",
       "      <td>0.011090</td>\n",
       "      <td>-0.031877</td>\n",
       "      <td>0.011979</td>\n",
       "      <td>-0.301858</td>\n",
       "      <td>1.000000</td>\n",
       "      <td>0.005805</td>\n",
       "      <td>0.009084</td>\n",
       "      <td>0.013990</td>\n",
       "      <td>-0.050271</td>\n",
       "    </tr>\n",
       "    <tr>\n",
       "      <th>HasCrCard</th>\n",
       "      <td>-0.003937</td>\n",
       "      <td>-0.014129</td>\n",
       "      <td>0.027232</td>\n",
       "      <td>-0.019055</td>\n",
       "      <td>0.005805</td>\n",
       "      <td>1.000000</td>\n",
       "      <td>-0.008810</td>\n",
       "      <td>-0.006136</td>\n",
       "      <td>-0.005411</td>\n",
       "    </tr>\n",
       "    <tr>\n",
       "      <th>IsActiveMember</th>\n",
       "      <td>0.030947</td>\n",
       "      <td>0.082269</td>\n",
       "      <td>-0.032178</td>\n",
       "      <td>-0.003285</td>\n",
       "      <td>0.009084</td>\n",
       "      <td>-0.008810</td>\n",
       "      <td>1.000000</td>\n",
       "      <td>-0.020049</td>\n",
       "      <td>-0.155062</td>\n",
       "    </tr>\n",
       "    <tr>\n",
       "      <th>EstimatedSalary</th>\n",
       "      <td>0.005182</td>\n",
       "      <td>-0.007037</td>\n",
       "      <td>0.010520</td>\n",
       "      <td>0.014351</td>\n",
       "      <td>0.013990</td>\n",
       "      <td>-0.006136</td>\n",
       "      <td>-0.020049</td>\n",
       "      <td>1.000000</td>\n",
       "      <td>0.016029</td>\n",
       "    </tr>\n",
       "    <tr>\n",
       "      <th>Exited</th>\n",
       "      <td>-0.023950</td>\n",
       "      <td>0.283017</td>\n",
       "      <td>-0.016761</td>\n",
       "      <td>0.117218</td>\n",
       "      <td>-0.050271</td>\n",
       "      <td>-0.005411</td>\n",
       "      <td>-0.155062</td>\n",
       "      <td>0.016029</td>\n",
       "      <td>1.000000</td>\n",
       "    </tr>\n",
       "  </tbody>\n",
       "</table>\n",
       "</div>"
      ],
      "text/plain": [
       "                 CreditScore       Age    Tenure   Balance  NumOfProducts  \\\n",
       "CreditScore         1.000000 -0.004504 -0.000062  0.002804       0.011090   \n",
       "Age                -0.004504  1.000000 -0.013134  0.031481      -0.031877   \n",
       "Tenure             -0.000062 -0.013134  1.000000 -0.007911       0.011979   \n",
       "Balance             0.002804  0.031481 -0.007911  1.000000      -0.301858   \n",
       "NumOfProducts       0.011090 -0.031877  0.011979 -0.301858       1.000000   \n",
       "HasCrCard          -0.003937 -0.014129  0.027232 -0.019055       0.005805   \n",
       "IsActiveMember      0.030947  0.082269 -0.032178 -0.003285       0.009084   \n",
       "EstimatedSalary     0.005182 -0.007037  0.010520  0.014351       0.013990   \n",
       "Exited             -0.023950  0.283017 -0.016761  0.117218      -0.050271   \n",
       "\n",
       "                 HasCrCard  IsActiveMember  EstimatedSalary    Exited  \n",
       "CreditScore      -0.003937        0.030947         0.005182 -0.023950  \n",
       "Age              -0.014129        0.082269        -0.007037  0.283017  \n",
       "Tenure            0.027232       -0.032178         0.010520 -0.016761  \n",
       "Balance          -0.019055       -0.003285         0.014351  0.117218  \n",
       "NumOfProducts     0.005805        0.009084         0.013990 -0.050271  \n",
       "HasCrCard         1.000000       -0.008810        -0.006136 -0.005411  \n",
       "IsActiveMember   -0.008810        1.000000        -0.020049 -0.155062  \n",
       "EstimatedSalary  -0.006136       -0.020049         1.000000  0.016029  \n",
       "Exited           -0.005411       -0.155062         0.016029  1.000000  "
      ]
     },
     "execution_count": 11,
     "metadata": {},
     "output_type": "execute_result"
    }
   ],
   "source": [
    "#Проверим корреляцию признаков\n",
    "data.corr()"
   ]
  },
  {
   "cell_type": "markdown",
   "metadata": {},
   "source": [
    "Значимой корреляции между признаками не обнаружено.\n",
    "Разобьем данные на обучающую, валидационную и тестовую выборки"
   ]
  },
  {
   "cell_type": "code",
   "execution_count": 12,
   "metadata": {},
   "outputs": [
    {
     "name": "stdout",
     "output_type": "stream",
     "text": [
      "Количество строк в data 9091\n",
      "Количество строк в features 9091\n",
      "Количество строк в target 9091\n",
      "Количество строк в обучающей выборке (признаки, значение) 5454 5454\n",
      "Количество строк в валидационной выборке (признаки, значение) 1818 1818\n",
      "Количество строк в тестовой выборке (признаки, значение) 1819 1819\n"
     ]
    }
   ],
   "source": [
    "#Разобьем данные на обучающую, валидационную и тестовую выборки\n",
    "\n",
    "features = data.drop(['Exited'], axis=1)\n",
    "target = data['Exited']\n",
    "\n",
    "print('Количество строк в data', data.shape[0])\n",
    "print('Количество строк в features', features.shape[0])\n",
    "print('Количество строк в target', target.shape[0])\n",
    "\n",
    "features_train, features_valid, target_train, target_valid = train_test_split(\n",
    "    features, target, test_size = 0.4, random_state = 12345)\n",
    "\n",
    "features_valid, features_test, target_valid, target_test = train_test_split(\n",
    "    features_valid, target_valid, test_size=0.5, random_state = 12345)\n",
    "\n",
    "print('Количество строк в обучающей выборке (признаки, значение)', features_train.shape[0], target_train.shape[0])\n",
    "print('Количество строк в валидационной выборке (признаки, значение)', features_valid.shape[0], target_valid.shape[0])\n",
    "print('Количество строк в тестовой выборке (признаки, значение)', features_test.shape[0], target_test.shape[0])"
   ]
  },
  {
   "cell_type": "markdown",
   "metadata": {},
   "source": [
    "В данных осталось 2 категориальных признака: \"Geography\" и \"Gender\" - преобразуем их в численные."
   ]
  },
  {
   "cell_type": "markdown",
   "metadata": {},
   "source": [
    "В качестве метода преобразования категориальных признаков в численные применим ohe - кодирование"
   ]
  },
  {
   "cell_type": "code",
   "execution_count": 13,
   "metadata": {
    "scrolled": true
   },
   "outputs": [
    {
     "data": {
      "text/html": [
       "<div>\n",
       "<style scoped>\n",
       "    .dataframe tbody tr th:only-of-type {\n",
       "        vertical-align: middle;\n",
       "    }\n",
       "\n",
       "    .dataframe tbody tr th {\n",
       "        vertical-align: top;\n",
       "    }\n",
       "\n",
       "    .dataframe thead th {\n",
       "        text-align: right;\n",
       "    }\n",
       "</style>\n",
       "<table border=\"1\" class=\"dataframe\">\n",
       "  <thead>\n",
       "    <tr style=\"text-align: right;\">\n",
       "      <th></th>\n",
       "      <th>CreditScore</th>\n",
       "      <th>Age</th>\n",
       "      <th>Tenure</th>\n",
       "      <th>Balance</th>\n",
       "      <th>NumOfProducts</th>\n",
       "      <th>HasCrCard</th>\n",
       "      <th>IsActiveMember</th>\n",
       "      <th>EstimatedSalary</th>\n",
       "      <th>Geography_Germany</th>\n",
       "      <th>Geography_Spain</th>\n",
       "      <th>Gender_Male</th>\n",
       "    </tr>\n",
       "    <tr>\n",
       "      <th>RowNumber</th>\n",
       "      <th></th>\n",
       "      <th></th>\n",
       "      <th></th>\n",
       "      <th></th>\n",
       "      <th></th>\n",
       "      <th></th>\n",
       "      <th></th>\n",
       "      <th></th>\n",
       "      <th></th>\n",
       "      <th></th>\n",
       "      <th></th>\n",
       "    </tr>\n",
       "  </thead>\n",
       "  <tbody>\n",
       "    <tr>\n",
       "      <th>9345</th>\n",
       "      <td>727</td>\n",
       "      <td>28</td>\n",
       "      <td>2.0</td>\n",
       "      <td>110997.76</td>\n",
       "      <td>1</td>\n",
       "      <td>1</td>\n",
       "      <td>0</td>\n",
       "      <td>101433.76</td>\n",
       "      <td>0</td>\n",
       "      <td>0</td>\n",
       "      <td>0</td>\n",
       "    </tr>\n",
       "    <tr>\n",
       "      <th>3797</th>\n",
       "      <td>537</td>\n",
       "      <td>26</td>\n",
       "      <td>7.0</td>\n",
       "      <td>106397.75</td>\n",
       "      <td>1</td>\n",
       "      <td>0</td>\n",
       "      <td>0</td>\n",
       "      <td>103563.23</td>\n",
       "      <td>0</td>\n",
       "      <td>0</td>\n",
       "      <td>1</td>\n",
       "    </tr>\n",
       "    <tr>\n",
       "      <th>7463</th>\n",
       "      <td>610</td>\n",
       "      <td>40</td>\n",
       "      <td>9.0</td>\n",
       "      <td>0.00</td>\n",
       "      <td>1</td>\n",
       "      <td>1</td>\n",
       "      <td>1</td>\n",
       "      <td>149602.54</td>\n",
       "      <td>0</td>\n",
       "      <td>0</td>\n",
       "      <td>1</td>\n",
       "    </tr>\n",
       "    <tr>\n",
       "      <th>1509</th>\n",
       "      <td>576</td>\n",
       "      <td>36</td>\n",
       "      <td>6.0</td>\n",
       "      <td>0.00</td>\n",
       "      <td>2</td>\n",
       "      <td>1</td>\n",
       "      <td>1</td>\n",
       "      <td>48314.00</td>\n",
       "      <td>0</td>\n",
       "      <td>0</td>\n",
       "      <td>1</td>\n",
       "    </tr>\n",
       "    <tr>\n",
       "      <th>4479</th>\n",
       "      <td>549</td>\n",
       "      <td>31</td>\n",
       "      <td>4.0</td>\n",
       "      <td>0.00</td>\n",
       "      <td>2</td>\n",
       "      <td>0</td>\n",
       "      <td>1</td>\n",
       "      <td>25684.85</td>\n",
       "      <td>0</td>\n",
       "      <td>0</td>\n",
       "      <td>1</td>\n",
       "    </tr>\n",
       "  </tbody>\n",
       "</table>\n",
       "</div>"
      ],
      "text/plain": [
       "           CreditScore  Age  Tenure    Balance  NumOfProducts  HasCrCard  \\\n",
       "RowNumber                                                                  \n",
       "9345               727   28     2.0  110997.76              1          1   \n",
       "3797               537   26     7.0  106397.75              1          0   \n",
       "7463               610   40     9.0       0.00              1          1   \n",
       "1509               576   36     6.0       0.00              2          1   \n",
       "4479               549   31     4.0       0.00              2          0   \n",
       "\n",
       "           IsActiveMember  EstimatedSalary  Geography_Germany  \\\n",
       "RowNumber                                                       \n",
       "9345                    0        101433.76                  0   \n",
       "3797                    0        103563.23                  0   \n",
       "7463                    1        149602.54                  0   \n",
       "1509                    1         48314.00                  0   \n",
       "4479                    1         25684.85                  0   \n",
       "\n",
       "           Geography_Spain  Gender_Male  \n",
       "RowNumber                                \n",
       "9345                     0            0  \n",
       "3797                     0            1  \n",
       "7463                     0            1  \n",
       "1509                     0            1  \n",
       "4479                     0            1  "
      ]
     },
     "execution_count": 13,
     "metadata": {},
     "output_type": "execute_result"
    }
   ],
   "source": [
    "features_train = pd.get_dummies(features_train, drop_first=True)\n",
    "features_valid = pd.get_dummies(features_valid, drop_first=True)\n",
    "features_test = pd.get_dummies(features_test, drop_first=True)\n",
    "\n",
    "features_train.head()\n"
   ]
  },
  {
   "cell_type": "markdown",
   "metadata": {},
   "source": [
    "Выполним масштабирование численных признаков, чтобы их веса были одинаковыми"
   ]
  },
  {
   "cell_type": "code",
   "execution_count": 14,
   "metadata": {},
   "outputs": [
    {
     "data": {
      "text/html": [
       "<div>\n",
       "<style scoped>\n",
       "    .dataframe tbody tr th:only-of-type {\n",
       "        vertical-align: middle;\n",
       "    }\n",
       "\n",
       "    .dataframe tbody tr th {\n",
       "        vertical-align: top;\n",
       "    }\n",
       "\n",
       "    .dataframe thead th {\n",
       "        text-align: right;\n",
       "    }\n",
       "</style>\n",
       "<table border=\"1\" class=\"dataframe\">\n",
       "  <thead>\n",
       "    <tr style=\"text-align: right;\">\n",
       "      <th></th>\n",
       "      <th>CreditScore</th>\n",
       "      <th>Age</th>\n",
       "      <th>Tenure</th>\n",
       "      <th>Balance</th>\n",
       "      <th>NumOfProducts</th>\n",
       "      <th>HasCrCard</th>\n",
       "      <th>IsActiveMember</th>\n",
       "      <th>EstimatedSalary</th>\n",
       "      <th>Geography_Germany</th>\n",
       "      <th>Geography_Spain</th>\n",
       "      <th>Gender_Male</th>\n",
       "    </tr>\n",
       "    <tr>\n",
       "      <th>RowNumber</th>\n",
       "      <th></th>\n",
       "      <th></th>\n",
       "      <th></th>\n",
       "      <th></th>\n",
       "      <th></th>\n",
       "      <th></th>\n",
       "      <th></th>\n",
       "      <th></th>\n",
       "      <th></th>\n",
       "      <th></th>\n",
       "      <th></th>\n",
       "    </tr>\n",
       "  </thead>\n",
       "  <tbody>\n",
       "    <tr>\n",
       "      <th>5171</th>\n",
       "      <td>1.707279</td>\n",
       "      <td>-0.756975</td>\n",
       "      <td>-0.336987</td>\n",
       "      <td>-1.237830</td>\n",
       "      <td>2</td>\n",
       "      <td>1</td>\n",
       "      <td>1</td>\n",
       "      <td>0.718362</td>\n",
       "      <td>0</td>\n",
       "      <td>0</td>\n",
       "      <td>0</td>\n",
       "    </tr>\n",
       "    <tr>\n",
       "      <th>4181</th>\n",
       "      <td>-0.429826</td>\n",
       "      <td>-0.286389</td>\n",
       "      <td>1.730036</td>\n",
       "      <td>0.485538</td>\n",
       "      <td>2</td>\n",
       "      <td>0</td>\n",
       "      <td>0</td>\n",
       "      <td>1.687305</td>\n",
       "      <td>1</td>\n",
       "      <td>0</td>\n",
       "      <td>1</td>\n",
       "    </tr>\n",
       "    <tr>\n",
       "      <th>7350</th>\n",
       "      <td>-0.171721</td>\n",
       "      <td>0.278313</td>\n",
       "      <td>0.352020</td>\n",
       "      <td>-0.269213</td>\n",
       "      <td>2</td>\n",
       "      <td>0</td>\n",
       "      <td>1</td>\n",
       "      <td>0.824128</td>\n",
       "      <td>1</td>\n",
       "      <td>0</td>\n",
       "      <td>1</td>\n",
       "    </tr>\n",
       "    <tr>\n",
       "      <th>7470</th>\n",
       "      <td>0.385784</td>\n",
       "      <td>-0.380507</td>\n",
       "      <td>1.041028</td>\n",
       "      <td>0.464813</td>\n",
       "      <td>1</td>\n",
       "      <td>1</td>\n",
       "      <td>0</td>\n",
       "      <td>-1.118018</td>\n",
       "      <td>0</td>\n",
       "      <td>0</td>\n",
       "      <td>0</td>\n",
       "    </tr>\n",
       "    <tr>\n",
       "      <th>3468</th>\n",
       "      <td>-1.142194</td>\n",
       "      <td>0.278313</td>\n",
       "      <td>-1.370498</td>\n",
       "      <td>0.353837</td>\n",
       "      <td>2</td>\n",
       "      <td>0</td>\n",
       "      <td>1</td>\n",
       "      <td>-0.107642</td>\n",
       "      <td>1</td>\n",
       "      <td>0</td>\n",
       "      <td>0</td>\n",
       "    </tr>\n",
       "  </tbody>\n",
       "</table>\n",
       "</div>"
      ],
      "text/plain": [
       "           CreditScore       Age    Tenure   Balance  NumOfProducts  \\\n",
       "RowNumber                                                             \n",
       "5171          1.707279 -0.756975 -0.336987 -1.237830              2   \n",
       "4181         -0.429826 -0.286389  1.730036  0.485538              2   \n",
       "7350         -0.171721  0.278313  0.352020 -0.269213              2   \n",
       "7470          0.385784 -0.380507  1.041028  0.464813              1   \n",
       "3468         -1.142194  0.278313 -1.370498  0.353837              2   \n",
       "\n",
       "           HasCrCard  IsActiveMember  EstimatedSalary  Geography_Germany  \\\n",
       "RowNumber                                                                  \n",
       "5171               1               1         0.718362                  0   \n",
       "4181               0               0         1.687305                  1   \n",
       "7350               0               1         0.824128                  1   \n",
       "7470               1               0        -1.118018                  0   \n",
       "3468               0               1        -0.107642                  1   \n",
       "\n",
       "           Geography_Spain  Gender_Male  \n",
       "RowNumber                                \n",
       "5171                     0            0  \n",
       "4181                     0            1  \n",
       "7350                     0            1  \n",
       "7470                     0            0  \n",
       "3468                     0            0  "
      ]
     },
     "execution_count": 14,
     "metadata": {},
     "output_type": "execute_result"
    }
   ],
   "source": [
    "scaller = StandardScaler()\n",
    "numeric = ['CreditScore', 'Age', 'Tenure', 'Balance', 'EstimatedSalary']\n",
    "scaller.fit(features_train[numeric])\n",
    "features_train[numeric] = scaller.transform(features_train[numeric])\n",
    "features_valid[numeric] = scaller.transform(features_valid[numeric])\n",
    "features_test[numeric] = scaller.transform(features_test[numeric])\n",
    "features_test.head()"
   ]
  },
  {
   "cell_type": "markdown",
   "metadata": {},
   "source": [
    "Данные готовы к работе"
   ]
  },
  {
   "cell_type": "markdown",
   "metadata": {},
   "source": [
    "## Исследование задачи"
   ]
  },
  {
   "cell_type": "markdown",
   "metadata": {},
   "source": [
    "Исследуем баланс классов"
   ]
  },
  {
   "cell_type": "code",
   "execution_count": 15,
   "metadata": {},
   "outputs": [
    {
     "data": {
      "text/plain": [
       "0.2561835014508774"
      ]
     },
     "execution_count": 15,
     "metadata": {},
     "output_type": "execute_result"
    }
   ],
   "source": [
    "#Дисбаланс классов в полном наборе данных\n",
    "data[data['Exited']==1]['Exited'].count() / data[data['Exited']== 0]['Exited'].count()"
   ]
  },
  {
   "cell_type": "code",
   "execution_count": 16,
   "metadata": {},
   "outputs": [
    {
     "data": {
      "text/plain": [
       "0.2601663585951941"
      ]
     },
     "execution_count": 16,
     "metadata": {},
     "output_type": "execute_result"
    }
   ],
   "source": [
    "#Дисбаланс классов в обучающей выборке\n",
    "target_train[target_train == 1].count() / target_train[target_train == 0].count()"
   ]
  },
  {
   "cell_type": "code",
   "execution_count": 17,
   "metadata": {},
   "outputs": [
    {
     "data": {
      "text/plain": [
       "0.26162387231089523"
      ]
     },
     "execution_count": 17,
     "metadata": {},
     "output_type": "execute_result"
    }
   ],
   "source": [
    "#Дисбаланс классов в валидационной выборке\n",
    "target_valid[target_valid == 1].count() / target_valid[target_valid == 0].count()"
   ]
  },
  {
   "cell_type": "code",
   "execution_count": 18,
   "metadata": {},
   "outputs": [
    {
     "data": {
      "text/plain": [
       "0.2391008174386921"
      ]
     },
     "execution_count": 18,
     "metadata": {},
     "output_type": "execute_result"
    }
   ],
   "source": [
    "#Дисбаланс классов в тестовой выборке\n",
    "target_test[target_test == 1].count() / target_test[target_test == 0].count()"
   ]
  },
  {
   "cell_type": "markdown",
   "metadata": {},
   "source": [
    "**Исследование моделей**"
   ]
  },
  {
   "cell_type": "markdown",
   "metadata": {},
   "source": [
    "**Выбор лучшей модели**"
   ]
  },
  {
   "cell_type": "markdown",
   "metadata": {},
   "source": [
    "Коммит 2: в параметрах моделей изменил глубину ьаксимальную деревьев с 30 до 20"
   ]
  },
  {
   "cell_type": "code",
   "execution_count": 19,
   "metadata": {},
   "outputs": [
    {
     "name": "stdout",
     "output_type": "stream",
     "text": [
      "Лучшая модель: RandomForestClassifier(max_depth=17, n_estimators=81, random_state=12345)\n",
      "Лучшее значение f1: 0.5970149253731343\n",
      "Значение roc_auc_score: 0.8636225580158193\n"
     ]
    }
   ],
   "source": [
    "#Создаем функцию, которая по \"коду\" будет создавать в качестве модели либо решающее дерево, либо лес, \n",
    "#либо логистическую регрессию. В качества параметров вводим глубину и кол-во деревьев\n",
    "\n",
    "def model_type(i, depth=5, state=12345, n_est = 10, weight=None):  \n",
    "    if i==0:\n",
    "        model = DecisionTreeClassifier(max_depth = depth, random_state=state, class_weight = weight)\n",
    "    elif i==1:\n",
    "        model = RandomForestClassifier(max_depth = depth, random_state=state, n_estimators = n_est, class_weight = weight )\n",
    "    else:\n",
    "        model = LogisticRegression(solver='liblinear', random_state=state, class_weight = weight) #, max_iter = dept\n",
    "    return model\n",
    "\n",
    "best_model = 0  #Создаем первую пустую модель\n",
    "best_f1 = 0 #Создаем переменную для хранения лучшего значения f1\n",
    "auc_roc = 0 #Создаем переменную для хранения  значения roc_auc_score для лучшей по f1 модели\n",
    "\n",
    "for i in range(0,3):  # Перебираем циклом все 3 модели\n",
    "\n",
    "    if i == 0 or i == 1: #Если мы работаем с решающим деревом или лесом:\n",
    "        for depth in range(1, 20):   # Перебираем циклом глубину\n",
    "            for n in range(1,101,10):    # Перебираем циклом количество деревьев\n",
    "                test_model = model_type(i, depth, n_est = n*i) # Создаем модель; при этом для \"дерева\" кол-во деревьев обнулится\n",
    "                test_model.fit(features_train, target_train)  #Обучаем модель\n",
    "                predictions_valid = test_model.predict(features_valid)  #Обученная модель предстказывает результат\n",
    "                \n",
    "\n",
    "                \n",
    "#Если результат стал лучше предыдущего лучшего значения, переприсваеваем нашим перменным, отвечающим за \n",
    "#хранения лучших данных, и результат и тип модели\n",
    "\n",
    "                if f1_score(target_valid, predictions_valid) > best_f1:  \n",
    "                    best_f1 = f1_score(target_valid, predictions_valid)\n",
    "                    best_model = test_model\n",
    "                \n",
    "                    probabilities_valid = test_model.predict_proba(features_valid)\n",
    "                    probabilities_one_valid = probabilities_valid[:, 1]\n",
    "                    auc_roc = roc_auc_score(target_valid, probabilities_one_valid)\n",
    "                \n",
    "                \n",
    "                \n",
    "                \n",
    "    else:    #Если мы работаем с логистической регрессией:\n",
    "        test_model = model_type(i)  # Создаем модель\n",
    "        test_model.fit(features_train, target_train)  #Обучаем модель\n",
    "        predictions_valid = test_model.predict(features_valid)  #Обученная модель предсказывает результа\n",
    "            \n",
    "        #print(model_type(i, depth), accuracy_score(valid_results,predictions_valid))\n",
    "        \n",
    "#Если результат стал лучше предыдущего лучшего значения, переприсваеваем нашим перменным, отвечающим за \n",
    "#хранения лучших данных и результат и тип модели   \n",
    "\n",
    "        if f1_score(target_valid, predictions_valid) > best_f1:\n",
    "            best_f1 = f1_score(target_valid, predictions_valid)\n",
    "            best_model = test_model\n",
    "            \n",
    "            probabilities_valid = test_model.predict_proba(features_valid)\n",
    "            probabilities_one_valid = probabilities_valid[:, 1]\n",
    "            auc_roc = roc_auc_score(target_valid, probabilities_one_valid)\n",
    "            \n",
    "print('Лучшая модель:', best_model)\n",
    "print('Лучшее значение f1:', best_f1)\n",
    "print('Значение roc_auc_score:', auc_roc)\n"
   ]
  },
  {
   "cell_type": "markdown",
   "metadata": {},
   "source": [
    "Коммит 2: Таким образом, получено, что без учета дисбаланса классов наилучшей моделью является RandomForestClassifier с глубиной деревьев 17 и количеством деревьев 81.\n",
    "Достигаемое этой моделью значение f1-меры составляет 0,6023, что удовлетворяет заданному в ТЗ требованию >= 0,59.\n",
    "roc_auc - мера, при этом, равна 0,8636, что говорит об адекватности модели."
   ]
  },
  {
   "cell_type": "markdown",
   "metadata": {},
   "source": [
    "## Борьба с дисбалансом"
   ]
  },
  {
   "cell_type": "markdown",
   "metadata": {},
   "source": [
    "Для борьбы с дисбалансом проведем сначала повтор выбора модели, но веса классов сделаем сбалансированными."
   ]
  },
  {
   "cell_type": "code",
   "execution_count": 20,
   "metadata": {},
   "outputs": [
    {
     "name": "stdout",
     "output_type": "stream",
     "text": [
      "Лучшая модель: RandomForestClassifier(class_weight='balanced', max_depth=9, n_estimators=31,\n",
      "                       random_state=12345)\n",
      "Лучшее значение f1: 0.6434782608695652\n",
      "Значение roc_auc_score: 0.8682097055353176\n"
     ]
    }
   ],
   "source": [
    "best_model = 0  #Обнуляем модель\n",
    "best_f1 = 0 #Обнуляем переменную для хранения лучшего значения f1\n",
    "auc_roc = 0 #Обнуляем переменную для хранения  значения roc_auc_score для лучшей по f1 модели\n",
    "\n",
    "for i in range(0,3):  # Перебираем циклом все 3 модели\n",
    "\n",
    "    if i == 0 or i == 1: #Если мы работаем с решающим деревом или лесом:\n",
    "        for depth in range(1, 30):   # Перебираем циклом глубину\n",
    "            for n in range(1,101,10):    # Перебираем циклом количество деревьев\n",
    "                # Создаем модель; при этом для \"дерева\" кол-во деревьев обнулится\n",
    "                test_model = model_type(i, depth, n_est = n*i, weight = 'balanced') \n",
    "                test_model.fit(features_train, target_train)  #Обучаем модель\n",
    "                predictions_valid = test_model.predict(features_valid)  #Обученная модель предсказывает результат\n",
    "                \n",
    "\n",
    "                \n",
    "#Если результат стал лучше предыдущего лучшего значения, переприсваеваем нашим перменным, отвечающим за \n",
    "#хранения лучших данных, и результат и тип модели\n",
    "\n",
    "                if f1_score(target_valid, predictions_valid) > best_f1:  \n",
    "                    best_f1 = f1_score(target_valid, predictions_valid)\n",
    "                    best_model = test_model\n",
    "                \n",
    "                    probabilities_valid = test_model.predict_proba(features_valid)\n",
    "                    probabilities_one_valid = probabilities_valid[:, 1]\n",
    "                    auc_roc = roc_auc_score(target_valid, probabilities_one_valid)\n",
    "                \n",
    "                \n",
    "    else:    #Если мы работаем с логистической регрессией:\n",
    "        test_model = model_type(i, weight='balanced')  # Создаем модель\n",
    "        test_model.fit(features_train, target_train)  #Обучаем модель\n",
    "        predictions_valid = test_model.predict(features_valid)  #Обученная модель предсказывает результат\n",
    "            \n",
    "        #print(model_type(i, depth), accuracy_score(valid_results,predictions_valid))\n",
    "        \n",
    "#Если результат стал лучше предыдущего лучшего значения, переприсваеваем нашим перменным, отвечающим за \n",
    "#хранения лучших данных и результат и тип модели   \n",
    "\n",
    "        if f1_score(target_valid, predictions_valid) > best_f1:\n",
    "            best_f1 = f1_score(target_valid, predictions_valid)\n",
    "            best_model = test_model\n",
    "            \n",
    "            probabilities_valid = test_model.predict_proba(features_valid)\n",
    "            probabilities_one_valid = probabilities_valid[:, 1]\n",
    "            auc_roc = roc_auc_score(target_valid, probabilities_one_valid)\n",
    "            \n",
    "print('Лучшая модель:', best_model)\n",
    "print('Лучшее значение f1:', best_f1)\n",
    "print('Значение roc_auc_score:', auc_roc)\n"
   ]
  },
  {
   "cell_type": "markdown",
   "metadata": {},
   "source": [
    "Таким образом, получено, что учет дисбаланса классов позволил выполнить требования ТЗ и достичь значения f1-меры >0.59:\n",
    "Для модели RandomForestClassifier с глубиной деревьев 9 и количеством деревьев 31 достигнуто значение f1 = 0.6435; \n",
    "roc_auc - мера, при этом, также увеличилась и составила 0,8682."
   ]
  },
  {
   "cell_type": "markdown",
   "metadata": {},
   "source": [
    "Проведем увеличение обучающей выборки. Так как значений класса 1 примерно в 4 раза меньше, чем класса 0, увеличим количество данных с классом 1."
   ]
  },
  {
   "cell_type": "code",
   "execution_count": 25,
   "metadata": {},
   "outputs": [],
   "source": [
    "\n",
    "def upsample(features, target, repeat):\n",
    "    features_zeros = features[target == 0]\n",
    "    features_ones = features[target == 1]\n",
    "    target_zeros = target[target == 0]\n",
    "    target_ones = target[target == 1]\n",
    "\n",
    "    features_upsampled = pd.concat([features_zeros] + [features_ones] * repeat)\n",
    "    target_upsampled = pd.concat([target_zeros] + [target_ones] * repeat)\n",
    "    \n",
    "    features_upsampled, target_upsampled = shuffle(\n",
    "        features_upsampled, target_upsampled, random_state=12345)\n",
    "    \n",
    "    return features_upsampled, target_upsampled\n",
    "\n",
    "features_train_upsampled, target_train_upsampled = upsample(features_train, target_train, 4)"
   ]
  },
  {
   "cell_type": "markdown",
   "metadata": {},
   "source": [
    "Проведем повторное обучение лучшей модели:"
   ]
  },
  {
   "cell_type": "code",
   "execution_count": 27,
   "metadata": {},
   "outputs": [
    {
     "name": "stdout",
     "output_type": "stream",
     "text": [
      "Значение f1: 0.6271379703534777\n",
      "Значение roc_auc_score: 0.8694595743819223\n"
     ]
    }
   ],
   "source": [
    "best_model2 = RandomForestClassifier(class_weight='balanced', max_depth=9, n_estimators=31,\n",
    "                       random_state=12345)\n",
    "best_model2.fit(features_train_upsampled, target_train_upsampled)  #Обучаем модель на увеличенной обучающей выборке\n",
    "predictions_valid = best_model2.predict(features_valid)  #Обученная модель предсказывает результат\n",
    "\n",
    "probabilities_valid = best_model2.predict_proba(features_valid)\n",
    "probabilities_one_valid = probabilities_valid[:, 1]\n",
    "auc_roc = roc_auc_score(target_valid, probabilities_one_valid)\n",
    "\n",
    "\n",
    "print('Значение f1:', f1_score(target_valid, predictions_valid))\n",
    "print('Значение roc_auc_score:', auc_roc)"
   ]
  },
  {
   "cell_type": "markdown",
   "metadata": {},
   "source": [
    "Значение f1-меры уменьшилось! Попробуем заново подобрать наилучшую модель, но уже с использованием увеличенной обучающей выборки:"
   ]
  },
  {
   "cell_type": "code",
   "execution_count": 28,
   "metadata": {},
   "outputs": [
    {
     "name": "stdout",
     "output_type": "stream",
     "text": [
      "Лучшая модель: RandomForestClassifier(class_weight='balanced', max_depth=11, n_estimators=91,\n",
      "                       random_state=12345)\n",
      "Лучшее значение f1: 0.6412776412776412\n",
      "Значение roc_auc_score: 0.8688907828154998\n"
     ]
    }
   ],
   "source": [
    "best_model3 = 0  #Обнуляем модель\n",
    "best_f1 = 0 #Обнуляем переменную для хранения лучшего значения f1\n",
    "auc_roc = 0 #Обнуляем переменную для хранения  значения roc_auc_score для лучшей по f1 модели\n",
    "\n",
    "for i in range(0,3):  # Перебираем циклом все 3 модели\n",
    "\n",
    "    if i == 0 or i == 1: #Если мы работаем с решающим деревом или лесом:\n",
    "        for depth in range(1, 30):   # Перебираем циклом глубину\n",
    "            for n in range(1,101,10):    # Перебираем циклом количество деревьев\n",
    "                # Создаем модель; при этом для \"дерева\" кол-во деревьев обнулится\n",
    "                test_model = model_type(i, depth, n_est = n*i, weight = 'balanced') \n",
    "                test_model.fit(features_train_upsampled, target_train_upsampled)  #Обучаем модель\n",
    "                predictions_valid = test_model.predict(features_valid)  #Обученная модель предстказывает результат\n",
    "                \n",
    "\n",
    "                \n",
    "#Если результат стал лучше предыдущего лучшего значения, переприсваеваем нашим перменным, отвечающим за \n",
    "#хранения лучших данных, и результат и тип модели\n",
    "\n",
    "                if f1_score(target_valid, predictions_valid) > best_f1:  \n",
    "                    best_f1 = f1_score(target_valid, predictions_valid)\n",
    "                    best_model3 = test_model\n",
    "                \n",
    "                    probabilities_valid = test_model.predict_proba(features_valid)\n",
    "                    probabilities_one_valid = probabilities_valid[:, 1]\n",
    "                    auc_roc = roc_auc_score(target_valid, probabilities_one_valid)\n",
    "                \n",
    "                \n",
    "    else:    #Если мы работаем с логистической регрессией:\n",
    "        test_model = model_type(i, weight='balanced')  # Создаем модель\n",
    "        test_model.fit(features_train_upsampled, target_train_upsampled)  #Обучаем модель\n",
    "        predictions_valid = test_model.predict(features_valid)  #Обученная модель предстказывает результат\n",
    "            \n",
    "        #print(model_type(i, depth), accuracy_score(valid_results,predictions_valid))\n",
    "        \n",
    "#Если результат стал лучше предыдущего лучшего значения, переприсваеваем нашим перменным, отвечающим за \n",
    "#хранения лучших данных и результат и тип модели   \n",
    "\n",
    "        if f1_score(target_valid, predictions_valid) > best_f1:\n",
    "            best_f1 = f1_score(target_valid, predictions_valid)\n",
    "            best_model3 = test_model\n",
    "            \n",
    "            probabilities_valid = test_model.predict_proba(features_valid)\n",
    "            probabilities_one_valid = probabilities_valid[:, 1]\n",
    "            auc_roc = roc_auc_score(target_valid, probabilities_one_valid)\n",
    "            \n",
    "print('Лучшая модель:', best_model3)\n",
    "print('Лучшее значение f1:', best_f1)\n",
    "print('Значение roc_auc_score:', auc_roc)"
   ]
  },
  {
   "cell_type": "markdown",
   "metadata": {},
   "source": [
    "## Тестирование модели"
   ]
  },
  {
   "cell_type": "code",
   "execution_count": 29,
   "metadata": {},
   "outputs": [
    {
     "name": "stdout",
     "output_type": "stream",
     "text": [
      "Полученное значение f1: 0.5960264900662252\n",
      "Полученное значение roc_auc_score: 0.8527407096889387\n"
     ]
    }
   ],
   "source": [
    "#Проведем тестирование полученной модели, учитывающей вес классов и обученной на исходной выборке без увеличения \n",
    "predictions_valid = best_model.predict(features_test)\n",
    "f1 = f1_score(target_test, predictions_valid)\n",
    "\n",
    "probabilities_test = best_model.predict_proba(features_test)\n",
    "probabilities_one_test = probabilities_test[:, 1]\n",
    "auc_roc = roc_auc_score(target_test, probabilities_one_test)\n",
    "\n",
    "print('Полученное значение f1:', f1)\n",
    "print('Полученное значение roc_auc_score:', auc_roc)"
   ]
  },
  {
   "cell_type": "markdown",
   "metadata": {},
   "source": [
    "Требования ТЗ обеспечены"
   ]
  },
  {
   "cell_type": "code",
   "execution_count": 30,
   "metadata": {},
   "outputs": [
    {
     "name": "stdout",
     "output_type": "stream",
     "text": [
      "Полученное значение f1: 0.5845410628019323\n",
      "Полученное значение roc_auc_score: 0.8567405699558289\n"
     ]
    }
   ],
   "source": [
    "#Проведем тестирование полученной модели, учитывающей вес классов и обученной на увеличенной обучающей выборке\n",
    "predictions_valid = best_model2.predict(features_test)\n",
    "f1 = f1_score(target_test, predictions_valid)\n",
    "\n",
    "probabilities_test = best_model2.predict_proba(features_test)\n",
    "probabilities_one_test = probabilities_test[:, 1]\n",
    "auc_roc = roc_auc_score(target_test, probabilities_one_test)\n",
    "\n",
    "print('Полученное значение f1:', f1)\n",
    "print('Полученное значение roc_auc_score:', auc_roc)"
   ]
  },
  {
   "cell_type": "markdown",
   "metadata": {},
   "source": [
    "Требования ТЗ не выполнены! "
   ]
  },
  {
   "cell_type": "code",
   "execution_count": 35,
   "metadata": {},
   "outputs": [
    {
     "name": "stdout",
     "output_type": "stream",
     "text": [
      "Полученное значение f1: 0.6041666666666666\n",
      "Полученное значение roc_auc_score: 0.8586133817741448\n"
     ]
    }
   ],
   "source": [
    "#Проведем тестирование заново подобранной модели, учитывающей вес классов и обученной на увеличенной обучающей выборке\n",
    "predictions_valid = best_model3.predict(features_test)\n",
    "f1 = f1_score(target_test, predictions_valid)\n",
    "\n",
    "probabilities_test = best_model3.predict_proba(features_test)\n",
    "probabilities_one_test = probabilities_test[:, 1]\n",
    "auc_roc = roc_auc_score(target_test, probabilities_one_test)\n",
    "\n",
    "print('Полученное значение f1:', f1)\n",
    "print('Полученное значение roc_auc_score:', auc_roc)"
   ]
  },
  {
   "cell_type": "markdown",
   "metadata": {},
   "source": [
    "Требования ТЗ обеспечены"
   ]
  },
  {
   "cell_type": "code",
   "execution_count": 33,
   "metadata": {},
   "outputs": [
    {
     "data": {
      "image/png": "[encoded data removed]",
      "text/plain": [
       "<Figure size 432x288 with 1 Axes>"
      ]
     },
     "metadata": {
      "needs_background": "light"
     },
     "output_type": "display_data"
    }
   ],
   "source": [
    "#Построим ROC-кривую лучшей модели:\n",
    "probabilities_one_test = best_model3.predict_proba(features_test)[:, 1]\n",
    "\n",
    "fpr, tpr, thresholds = roc_curve(target_test, probabilities_one_test)\n",
    "plt.figure()\n",
    "plt.plot(fpr, tpr)\n",
    "plt.plot([0,1],  linestyle='--')\n",
    "plt.xlim([0,1])\n",
    "plt.ylim([0,1])\n",
    "plt.xlabel(\"False Positive Rate\")\n",
    "plt.ylabel(\"True Positive Rate\")\n",
    "plt.title(\"ROC-кривая\")\n",
    "plt.show()"
   ]
  },
  {
   "cell_type": "markdown",
   "metadata": {},
   "source": [
    "**Выводы**"
   ]
  },
  {
   "cell_type": "markdown",
   "metadata": {},
   "source": [
    "В процесе работы над проектом:\n",
    "- Проанализированы исходные данные:\n",
    "    - удалены строки с пропусками;\n",
    "    - проверена корреляция признаков;\n",
    "    - удалены неинформативные признаки.\n",
    "- Выполнена предварительная подготовка данных:\n",
    "    - данные разбиты на обучающую, валидационную и тестовую выборки;\n",
    "    - выполнено кодирование категориальных признаков методом OHE;\n",
    "    - выполнено масштабирование количественных признаков.\n",
    "- Выполнен анализ дисбаланса классов, показавший существенное различие в количестве классов \"0\" и \"1\" (~в 4 раза).\n",
    "- Выполнен подбор лучшей модели для классификации данных без учета дисбаланса классов.\n",
    "- Выполнен подбор лучшей модели с учетом дисбаланса классов:\n",
    "    - Выполнен подбор лучшей модели с учетом дисбаланса классов методом \"учета весов\";\n",
    "    - Выполнено увеличение обучающей выборки и расчет метрик на увеличенной выборке для лучшей модели с учетом дисбаланса классов методом \"учета весов\" модели;\n",
    "    - Выполнен подбор лучшей модели с учетом дисбаланса классов методом \"учета весов\" на увеличенной выборке."
   ]
  },
  {
   "cell_type": "markdown",
   "metadata": {},
   "source": [
    "В процессе тестирования моделей получено, что наилучший результат, обеспечивающий требования технического задания, дает модель, обученная на увеличенной обучающей выборке с учетом веса классов:"
   ]
  },
  {
   "cell_type": "code",
   "execution_count": 36,
   "metadata": {},
   "outputs": [
    {
     "name": "stdout",
     "output_type": "stream",
     "text": [
      "RandomForestClassifier(class_weight='balanced', max_depth=11, n_estimators=91,\n",
      "                       random_state=12345)\n"
     ]
    }
   ],
   "source": [
    "print(best_model3)"
   ]
  },
  {
   "cell_type": "markdown",
   "metadata": {},
   "source": [
    "Результат метрик указанной модели:"
   ]
  },
  {
   "cell_type": "markdown",
   "metadata": {},
   "source": [
    "Полученное значение f1: 0.598, что соответствует требованиям ТЗ.\n",
    "\n",
    "Полученное значение roc_auc_score: 0.8628, что подтверждает адекватность модели."
   ]
  },
  {
   "cell_type": "markdown",
   "metadata": {},
   "source": [
    "## Чек-лист готовности проекта"
   ]
  },
  {
   "cell_type": "markdown",
   "metadata": {},
   "source": [
    "Поставьте 'x' в выполненных пунктах. Далее нажмите Shift+Enter."
   ]
  },
  {
   "cell_type": "markdown",
   "metadata": {},
   "source": [
    "- [x]  Jupyter Notebook открыт\n",
    "- [x]  Весь код выполняется без ошибок\n",
    "- [x]  Ячейки с кодом расположены в порядке исполнения\n",
    "- [x]  Выполнен шаг 1: данные подготовлены\n",
    "- [x]  Выполнен шаг 2: задача исследована\n",
    "    - [x]  Исследован баланс классов\n",
    "    - [x]  Изучены модели без учёта дисбаланса\n",
    "    - [x]  Написаны выводы по результатам исследования\n",
    "- [x]  Выполнен шаг 3: учтён дисбаланс\n",
    "    - [x]  Применено несколько способов борьбы с дисбалансом\n",
    "    - [x]  Написаны выводы по результатам исследования\n",
    "- [x]  Выполнен шаг 4: проведено тестирование\n",
    "- [x]  Удалось достичь *F1*-меры не менее 0.59\n",
    "- [x]  Исследована метрика *AUC-ROC*"
   ]
  },
  {
   "cell_type": "code",
   "execution_count": null,
   "metadata": {},
   "outputs": [],
   "source": []
  }
 ],
 "metadata": {
  "ExecuteTimeLog": [
   {
    "duration": 465,
    "start_time": "2022-11-19T09:43:24.050Z"
   },
   {
    "duration": 19,
    "start_time": "2022-11-19T09:44:17.853Z"
   },
   {
    "duration": 16,
    "start_time": "2022-11-19T09:45:04.302Z"
   },
   {
    "duration": 44,
    "start_time": "2022-11-19T09:45:40.790Z"
   },
   {
    "duration": 5,
    "start_time": "2022-11-19T09:45:45.170Z"
   },
   {
    "duration": 61,
    "start_time": "2022-11-19T09:46:45.041Z"
   },
   {
    "duration": 9,
    "start_time": "2022-11-19T09:46:53.741Z"
   },
   {
    "duration": 40,
    "start_time": "2022-11-19T09:47:07.157Z"
   },
   {
    "duration": 17,
    "start_time": "2022-11-19T09:47:09.949Z"
   },
   {
    "duration": 10,
    "start_time": "2022-11-19T09:47:43.895Z"
   },
   {
    "duration": 13,
    "start_time": "2022-11-19T09:47:51.373Z"
   },
   {
    "duration": 8,
    "start_time": "2022-11-19T09:48:29.722Z"
   },
   {
    "duration": 12,
    "start_time": "2022-11-19T09:50:19.229Z"
   },
   {
    "duration": 55,
    "start_time": "2022-11-19T09:50:25.669Z"
   },
   {
    "duration": 13,
    "start_time": "2022-11-19T09:50:25.726Z"
   },
   {
    "duration": 12,
    "start_time": "2022-11-19T09:50:29.693Z"
   },
   {
    "duration": 13,
    "start_time": "2022-11-19T09:50:36.765Z"
   },
   {
    "duration": 50,
    "start_time": "2022-11-19T09:50:42.377Z"
   },
   {
    "duration": 11,
    "start_time": "2022-11-19T09:50:42.429Z"
   },
   {
    "duration": 15,
    "start_time": "2022-11-19T09:50:42.442Z"
   },
   {
    "duration": 15,
    "start_time": "2022-11-19T09:50:44.598Z"
   },
   {
    "duration": 6,
    "start_time": "2022-11-19T09:51:13.205Z"
   },
   {
    "duration": 50,
    "start_time": "2022-11-19T09:51:21.800Z"
   },
   {
    "duration": 11,
    "start_time": "2022-11-19T09:51:21.852Z"
   },
   {
    "duration": 8,
    "start_time": "2022-11-19T09:51:21.865Z"
   },
   {
    "duration": 7,
    "start_time": "2022-11-19T09:51:43.545Z"
   },
   {
    "duration": 5,
    "start_time": "2022-11-19T09:51:49.914Z"
   },
   {
    "duration": 45,
    "start_time": "2022-11-19T09:51:54.563Z"
   },
   {
    "duration": 8,
    "start_time": "2022-11-19T09:51:56.611Z"
   },
   {
    "duration": 48,
    "start_time": "2022-11-19T09:52:04.708Z"
   },
   {
    "duration": 11,
    "start_time": "2022-11-19T09:52:04.759Z"
   },
   {
    "duration": 8,
    "start_time": "2022-11-19T09:52:06.433Z"
   },
   {
    "duration": 6,
    "start_time": "2022-11-19T09:52:24.194Z"
   },
   {
    "duration": 47,
    "start_time": "2022-11-19T09:52:32.611Z"
   },
   {
    "duration": 11,
    "start_time": "2022-11-19T09:52:32.660Z"
   },
   {
    "duration": 6,
    "start_time": "2022-11-19T09:52:34.452Z"
   },
   {
    "duration": 10,
    "start_time": "2022-11-19T09:52:57.994Z"
   },
   {
    "duration": 854,
    "start_time": "2022-11-19T09:53:24.106Z"
   },
   {
    "duration": 4,
    "start_time": "2022-11-19T09:53:48.402Z"
   },
   {
    "duration": 8,
    "start_time": "2022-11-19T09:54:02.074Z"
   },
   {
    "duration": 4,
    "start_time": "2022-11-19T09:54:11.443Z"
   },
   {
    "duration": 4,
    "start_time": "2022-11-19T09:54:14.245Z"
   },
   {
    "duration": 49,
    "start_time": "2022-11-19T09:54:17.541Z"
   },
   {
    "duration": 11,
    "start_time": "2022-11-19T09:54:17.592Z"
   },
   {
    "duration": 9,
    "start_time": "2022-11-19T09:54:17.604Z"
   },
   {
    "duration": 4,
    "start_time": "2022-11-19T09:54:19.485Z"
   },
   {
    "duration": 50,
    "start_time": "2022-11-19T09:54:42.472Z"
   },
   {
    "duration": 11,
    "start_time": "2022-11-19T09:54:42.524Z"
   },
   {
    "duration": 13,
    "start_time": "2022-11-19T09:54:53.153Z"
   },
   {
    "duration": 7,
    "start_time": "2022-11-19T09:58:31.229Z"
   },
   {
    "duration": 7,
    "start_time": "2022-11-19T09:58:36.398Z"
   },
   {
    "duration": 17,
    "start_time": "2022-11-19T09:59:07.457Z"
   },
   {
    "duration": 856,
    "start_time": "2022-11-19T10:01:08.962Z"
   },
   {
    "duration": 7462,
    "start_time": "2022-11-19T10:01:22.074Z"
   },
   {
    "duration": 50720,
    "start_time": "2022-11-19T10:01:33.439Z"
   },
   {
    "duration": 8,
    "start_time": "2022-11-19T10:04:42.630Z"
   },
   {
    "duration": 8,
    "start_time": "2022-11-19T10:05:46.865Z"
   },
   {
    "duration": 8,
    "start_time": "2022-11-19T10:05:56.661Z"
   },
   {
    "duration": 8,
    "start_time": "2022-11-19T10:06:09.645Z"
   },
   {
    "duration": 8,
    "start_time": "2022-11-19T10:06:16.072Z"
   },
   {
    "duration": 8,
    "start_time": "2022-11-19T10:06:38.763Z"
   },
   {
    "duration": 8,
    "start_time": "2022-11-19T10:06:54.526Z"
   },
   {
    "duration": 7,
    "start_time": "2022-11-19T10:08:07.393Z"
   },
   {
    "duration": 8,
    "start_time": "2022-11-19T10:10:20.578Z"
   },
   {
    "duration": 45,
    "start_time": "2022-11-19T10:10:28.212Z"
   },
   {
    "duration": 14,
    "start_time": "2022-11-19T10:10:32.840Z"
   },
   {
    "duration": 13,
    "start_time": "2022-11-19T10:10:45.165Z"
   },
   {
    "duration": 12,
    "start_time": "2022-11-19T10:11:08.793Z"
   },
   {
    "duration": 13,
    "start_time": "2022-11-19T10:11:12.172Z"
   },
   {
    "duration": 18,
    "start_time": "2022-11-19T10:11:39.550Z"
   },
   {
    "duration": 14,
    "start_time": "2022-11-19T10:16:52.749Z"
   },
   {
    "duration": 3,
    "start_time": "2022-11-19T10:17:06.032Z"
   },
   {
    "duration": 12,
    "start_time": "2022-11-19T10:17:10.134Z"
   },
   {
    "duration": 44,
    "start_time": "2022-11-19T10:17:17.939Z"
   },
   {
    "duration": 9,
    "start_time": "2022-11-19T10:17:17.985Z"
   },
   {
    "duration": 11,
    "start_time": "2022-11-19T10:17:17.996Z"
   },
   {
    "duration": 15,
    "start_time": "2022-11-19T10:17:18.008Z"
   },
   {
    "duration": 4,
    "start_time": "2022-11-19T10:17:21.126Z"
   },
   {
    "duration": 13,
    "start_time": "2022-11-19T10:17:24.071Z"
   },
   {
    "duration": 40761,
    "start_time": "2022-11-19T10:18:15.156Z"
   },
   {
    "duration": 13,
    "start_time": "2022-11-19T10:25:25.903Z"
   },
   {
    "duration": 46,
    "start_time": "2022-11-19T10:25:34.933Z"
   },
   {
    "duration": 9,
    "start_time": "2022-11-19T10:25:34.981Z"
   },
   {
    "duration": 24,
    "start_time": "2022-11-19T10:25:34.992Z"
   },
   {
    "duration": 19,
    "start_time": "2022-11-19T10:25:35.018Z"
   },
   {
    "duration": 14,
    "start_time": "2022-11-19T10:25:35.039Z"
   },
   {
    "duration": 9,
    "start_time": "2022-11-19T10:25:39.081Z"
   },
   {
    "duration": 45,
    "start_time": "2022-11-19T10:25:54.084Z"
   },
   {
    "duration": 11,
    "start_time": "2022-11-19T10:25:54.131Z"
   },
   {
    "duration": 22,
    "start_time": "2022-11-19T10:25:54.143Z"
   },
   {
    "duration": 27,
    "start_time": "2022-11-19T10:25:54.166Z"
   },
   {
    "duration": 4,
    "start_time": "2022-11-19T10:25:58.197Z"
   },
   {
    "duration": 13,
    "start_time": "2022-11-19T10:26:01.314Z"
   },
   {
    "duration": 32136,
    "start_time": "2022-11-19T10:29:38.236Z"
   },
   {
    "duration": 15,
    "start_time": "2022-11-19T10:30:26.045Z"
   },
   {
    "duration": 9,
    "start_time": "2022-11-19T10:36:00.240Z"
   },
   {
    "duration": 10,
    "start_time": "2022-11-19T10:36:19.685Z"
   },
   {
    "duration": 15,
    "start_time": "2022-11-19T10:36:28.173Z"
   },
   {
    "duration": 44,
    "start_time": "2022-11-19T10:36:57.272Z"
   },
   {
    "duration": 10,
    "start_time": "2022-11-19T10:36:57.318Z"
   },
   {
    "duration": 12,
    "start_time": "2022-11-19T10:36:57.329Z"
   },
   {
    "duration": 14,
    "start_time": "2022-11-19T10:36:57.343Z"
   },
   {
    "duration": 3,
    "start_time": "2022-11-19T10:36:57.359Z"
   },
   {
    "duration": 13,
    "start_time": "2022-11-19T10:36:57.364Z"
   },
   {
    "duration": 19,
    "start_time": "2022-11-19T10:36:57.378Z"
   },
   {
    "duration": 5,
    "start_time": "2022-11-19T10:37:14.862Z"
   },
   {
    "duration": 45,
    "start_time": "2022-11-19T10:40:34.147Z"
   },
   {
    "duration": 9,
    "start_time": "2022-11-19T10:40:34.194Z"
   },
   {
    "duration": 12,
    "start_time": "2022-11-19T10:40:34.204Z"
   },
   {
    "duration": 12,
    "start_time": "2022-11-19T10:40:34.218Z"
   },
   {
    "duration": 4,
    "start_time": "2022-11-19T10:40:34.232Z"
   },
   {
    "duration": 16,
    "start_time": "2022-11-19T10:40:34.237Z"
   },
   {
    "duration": 16,
    "start_time": "2022-11-19T10:40:34.254Z"
   },
   {
    "duration": 4,
    "start_time": "2022-11-19T10:40:34.271Z"
   },
   {
    "duration": 8,
    "start_time": "2022-11-19T10:41:40.079Z"
   },
   {
    "duration": 189,
    "start_time": "2022-11-19T10:41:46.318Z"
   },
   {
    "duration": 11,
    "start_time": "2022-11-19T10:41:55.494Z"
   },
   {
    "duration": 30,
    "start_time": "2022-11-19T10:43:23.494Z"
   },
   {
    "duration": 23,
    "start_time": "2022-11-19T10:44:19.265Z"
   },
   {
    "duration": 45,
    "start_time": "2022-11-19T10:44:45.547Z"
   },
   {
    "duration": 10,
    "start_time": "2022-11-19T10:44:45.594Z"
   },
   {
    "duration": 11,
    "start_time": "2022-11-19T10:44:45.606Z"
   },
   {
    "duration": 15,
    "start_time": "2022-11-19T10:44:45.619Z"
   },
   {
    "duration": 4,
    "start_time": "2022-11-19T10:44:45.636Z"
   },
   {
    "duration": 21,
    "start_time": "2022-11-19T10:44:45.642Z"
   },
   {
    "duration": 15,
    "start_time": "2022-11-19T10:44:45.664Z"
   },
   {
    "duration": 5,
    "start_time": "2022-11-19T10:44:45.681Z"
   },
   {
    "duration": 31,
    "start_time": "2022-11-19T10:44:48.602Z"
   },
   {
    "duration": 46,
    "start_time": "2022-11-19T10:45:33.434Z"
   },
   {
    "duration": 9,
    "start_time": "2022-11-19T10:45:33.482Z"
   },
   {
    "duration": 12,
    "start_time": "2022-11-19T10:45:33.492Z"
   },
   {
    "duration": 13,
    "start_time": "2022-11-19T10:45:33.506Z"
   },
   {
    "duration": 3,
    "start_time": "2022-11-19T10:45:33.521Z"
   },
   {
    "duration": 13,
    "start_time": "2022-11-19T10:45:33.525Z"
   },
   {
    "duration": 15,
    "start_time": "2022-11-19T10:45:33.539Z"
   },
   {
    "duration": 4,
    "start_time": "2022-11-19T10:45:33.555Z"
   },
   {
    "duration": 25,
    "start_time": "2022-11-19T10:45:36.775Z"
   },
   {
    "duration": 49,
    "start_time": "2022-11-19T10:45:44.179Z"
   },
   {
    "duration": 13,
    "start_time": "2022-11-19T10:45:44.230Z"
   },
   {
    "duration": 12,
    "start_time": "2022-11-19T10:45:44.245Z"
   },
   {
    "duration": 17,
    "start_time": "2022-11-19T10:45:44.259Z"
   },
   {
    "duration": 4,
    "start_time": "2022-11-19T10:45:44.278Z"
   },
   {
    "duration": 28,
    "start_time": "2022-11-19T10:45:44.284Z"
   },
   {
    "duration": 15,
    "start_time": "2022-11-19T10:45:44.321Z"
   },
   {
    "duration": 5,
    "start_time": "2022-11-19T10:45:44.338Z"
   },
   {
    "duration": 24,
    "start_time": "2022-11-19T10:45:46.591Z"
   },
   {
    "duration": 46,
    "start_time": "2022-11-19T10:45:55.140Z"
   },
   {
    "duration": 9,
    "start_time": "2022-11-19T10:45:55.188Z"
   },
   {
    "duration": 11,
    "start_time": "2022-11-19T10:45:55.198Z"
   },
   {
    "duration": 16,
    "start_time": "2022-11-19T10:45:55.211Z"
   },
   {
    "duration": 4,
    "start_time": "2022-11-19T10:45:55.230Z"
   },
   {
    "duration": 27,
    "start_time": "2022-11-19T10:45:55.236Z"
   },
   {
    "duration": 31,
    "start_time": "2022-11-19T10:45:55.265Z"
   },
   {
    "duration": 10,
    "start_time": "2022-11-19T10:45:55.298Z"
   },
   {
    "duration": 39,
    "start_time": "2022-11-19T10:45:55.310Z"
   },
   {
    "duration": 22,
    "start_time": "2022-11-19T10:45:57.705Z"
   },
   {
    "duration": 11,
    "start_time": "2022-11-19T10:46:14.778Z"
   },
   {
    "duration": 47,
    "start_time": "2022-11-19T10:46:19.384Z"
   },
   {
    "duration": 9,
    "start_time": "2022-11-19T10:46:19.433Z"
   },
   {
    "duration": 12,
    "start_time": "2022-11-19T10:46:19.444Z"
   },
   {
    "duration": 14,
    "start_time": "2022-11-19T10:46:19.457Z"
   },
   {
    "duration": 3,
    "start_time": "2022-11-19T10:46:19.472Z"
   },
   {
    "duration": 12,
    "start_time": "2022-11-19T10:46:19.477Z"
   },
   {
    "duration": 38,
    "start_time": "2022-11-19T10:46:19.491Z"
   },
   {
    "duration": 4,
    "start_time": "2022-11-19T10:46:19.530Z"
   },
   {
    "duration": 30,
    "start_time": "2022-11-19T10:46:36.986Z"
   },
   {
    "duration": 5,
    "start_time": "2022-11-19T10:47:57.210Z"
   },
   {
    "duration": 46,
    "start_time": "2022-11-19T10:48:09.803Z"
   },
   {
    "duration": 10,
    "start_time": "2022-11-19T10:48:09.851Z"
   },
   {
    "duration": 12,
    "start_time": "2022-11-19T10:48:09.862Z"
   },
   {
    "duration": 24,
    "start_time": "2022-11-19T10:48:09.876Z"
   },
   {
    "duration": 4,
    "start_time": "2022-11-19T10:48:09.901Z"
   },
   {
    "duration": 19,
    "start_time": "2022-11-19T10:48:09.907Z"
   },
   {
    "duration": 17,
    "start_time": "2022-11-19T10:48:09.927Z"
   },
   {
    "duration": 4,
    "start_time": "2022-11-19T10:48:09.945Z"
   },
   {
    "duration": 5,
    "start_time": "2022-11-19T10:48:13.982Z"
   },
   {
    "duration": 31,
    "start_time": "2022-11-19T10:53:25.714Z"
   },
   {
    "duration": 17,
    "start_time": "2022-11-19T10:53:52.537Z"
   },
   {
    "duration": 48,
    "start_time": "2022-11-19T10:54:36.636Z"
   },
   {
    "duration": 9,
    "start_time": "2022-11-19T10:54:36.686Z"
   },
   {
    "duration": 11,
    "start_time": "2022-11-19T10:54:36.697Z"
   },
   {
    "duration": 13,
    "start_time": "2022-11-19T10:54:36.709Z"
   },
   {
    "duration": 4,
    "start_time": "2022-11-19T10:54:36.725Z"
   },
   {
    "duration": 13,
    "start_time": "2022-11-19T10:54:36.730Z"
   },
   {
    "duration": 14,
    "start_time": "2022-11-19T10:54:36.745Z"
   },
   {
    "duration": 4,
    "start_time": "2022-11-19T10:54:36.761Z"
   },
   {
    "duration": 4,
    "start_time": "2022-11-19T10:54:41.137Z"
   },
   {
    "duration": 5,
    "start_time": "2022-11-19T10:54:43.336Z"
   },
   {
    "duration": 10,
    "start_time": "2022-11-19T10:54:54.808Z"
   },
   {
    "duration": 11,
    "start_time": "2022-11-19T10:55:02.630Z"
   },
   {
    "duration": 32,
    "start_time": "2022-11-19T10:55:20.329Z"
   },
   {
    "duration": 39,
    "start_time": "2022-11-19T11:01:19.637Z"
   },
   {
    "duration": 40,
    "start_time": "2022-11-19T11:03:36.842Z"
   },
   {
    "duration": 21,
    "start_time": "2022-11-19T11:16:45.069Z"
   },
   {
    "duration": 9,
    "start_time": "2022-11-19T11:17:08.204Z"
   },
   {
    "duration": 13,
    "start_time": "2022-11-19T11:17:52.834Z"
   },
   {
    "duration": 923,
    "start_time": "2022-11-19T11:19:49.850Z"
   },
   {
    "duration": 11,
    "start_time": "2022-11-19T11:20:20.927Z"
   },
   {
    "duration": 12,
    "start_time": "2022-11-19T11:21:25.579Z"
   },
   {
    "duration": 16,
    "start_time": "2022-11-19T11:21:36.379Z"
   },
   {
    "duration": 10,
    "start_time": "2022-11-19T11:26:19.881Z"
   },
   {
    "duration": 12,
    "start_time": "2022-11-19T11:26:41.042Z"
   },
   {
    "duration": 16,
    "start_time": "2022-11-19T11:26:49.722Z"
   },
   {
    "duration": 8,
    "start_time": "2022-11-19T11:27:19.068Z"
   },
   {
    "duration": 47,
    "start_time": "2022-11-19T11:27:47.378Z"
   },
   {
    "duration": 10,
    "start_time": "2022-11-19T11:27:47.428Z"
   },
   {
    "duration": 12,
    "start_time": "2022-11-19T11:27:47.439Z"
   },
   {
    "duration": 16,
    "start_time": "2022-11-19T11:27:47.453Z"
   },
   {
    "duration": 5,
    "start_time": "2022-11-19T11:27:47.471Z"
   },
   {
    "duration": 17,
    "start_time": "2022-11-19T11:27:47.477Z"
   },
   {
    "duration": 31,
    "start_time": "2022-11-19T11:27:47.496Z"
   },
   {
    "duration": 5,
    "start_time": "2022-11-19T11:27:47.528Z"
   },
   {
    "duration": 9,
    "start_time": "2022-11-19T11:27:47.534Z"
   },
   {
    "duration": 33,
    "start_time": "2022-11-19T11:27:47.544Z"
   },
   {
    "duration": 12,
    "start_time": "2022-11-19T11:27:47.578Z"
   },
   {
    "duration": 21,
    "start_time": "2022-11-19T11:27:52.814Z"
   },
   {
    "duration": 49,
    "start_time": "2022-11-19T11:28:08.519Z"
   },
   {
    "duration": 10,
    "start_time": "2022-11-19T11:28:08.570Z"
   },
   {
    "duration": 13,
    "start_time": "2022-11-19T11:28:08.582Z"
   },
   {
    "duration": 17,
    "start_time": "2022-11-19T11:28:08.597Z"
   },
   {
    "duration": 6,
    "start_time": "2022-11-19T11:28:08.616Z"
   },
   {
    "duration": 12,
    "start_time": "2022-11-19T11:28:08.623Z"
   },
   {
    "duration": 19,
    "start_time": "2022-11-19T11:28:08.637Z"
   },
   {
    "duration": 5,
    "start_time": "2022-11-19T11:28:08.657Z"
   },
   {
    "duration": 7,
    "start_time": "2022-11-19T11:28:08.663Z"
   },
   {
    "duration": 51,
    "start_time": "2022-11-19T11:28:08.671Z"
   },
   {
    "duration": 11,
    "start_time": "2022-11-19T11:28:08.724Z"
   },
   {
    "duration": 14,
    "start_time": "2022-11-19T11:28:10.287Z"
   },
   {
    "duration": 19,
    "start_time": "2022-11-19T11:28:22.249Z"
   },
   {
    "duration": 13,
    "start_time": "2022-11-19T11:28:26.958Z"
   },
   {
    "duration": 11,
    "start_time": "2022-11-19T11:29:54.196Z"
   },
   {
    "duration": 17,
    "start_time": "2022-11-19T11:32:06.486Z"
   },
   {
    "duration": 12,
    "start_time": "2022-11-19T11:32:11.678Z"
   },
   {
    "duration": 10,
    "start_time": "2022-11-19T11:33:53.369Z"
   },
   {
    "duration": 10,
    "start_time": "2022-11-19T11:35:22.905Z"
   },
   {
    "duration": 46,
    "start_time": "2022-11-19T11:35:30.944Z"
   },
   {
    "duration": 9,
    "start_time": "2022-11-19T11:35:30.992Z"
   },
   {
    "duration": 25,
    "start_time": "2022-11-19T11:35:31.003Z"
   },
   {
    "duration": 15,
    "start_time": "2022-11-19T11:35:31.030Z"
   },
   {
    "duration": 3,
    "start_time": "2022-11-19T11:35:31.047Z"
   },
   {
    "duration": 28,
    "start_time": "2022-11-19T11:35:31.052Z"
   },
   {
    "duration": 20,
    "start_time": "2022-11-19T11:35:31.082Z"
   },
   {
    "duration": 6,
    "start_time": "2022-11-19T11:35:31.103Z"
   },
   {
    "duration": 15,
    "start_time": "2022-11-19T11:35:31.110Z"
   },
   {
    "duration": 33,
    "start_time": "2022-11-19T11:35:31.127Z"
   },
   {
    "duration": 10,
    "start_time": "2022-11-19T11:35:33.080Z"
   },
   {
    "duration": 48,
    "start_time": "2022-11-19T11:35:55.960Z"
   },
   {
    "duration": 11,
    "start_time": "2022-11-19T11:35:56.010Z"
   },
   {
    "duration": 12,
    "start_time": "2022-11-19T11:35:56.022Z"
   },
   {
    "duration": 12,
    "start_time": "2022-11-19T11:35:56.036Z"
   },
   {
    "duration": 4,
    "start_time": "2022-11-19T11:35:56.049Z"
   },
   {
    "duration": 13,
    "start_time": "2022-11-19T11:35:56.055Z"
   },
   {
    "duration": 19,
    "start_time": "2022-11-19T11:35:56.070Z"
   },
   {
    "duration": 31,
    "start_time": "2022-11-19T11:35:56.091Z"
   },
   {
    "duration": 5,
    "start_time": "2022-11-19T11:35:56.124Z"
   },
   {
    "duration": 33,
    "start_time": "2022-11-19T11:36:00.007Z"
   },
   {
    "duration": 9,
    "start_time": "2022-11-19T11:36:03.902Z"
   },
   {
    "duration": 45,
    "start_time": "2022-11-19T11:36:14.395Z"
   },
   {
    "duration": 9,
    "start_time": "2022-11-19T11:36:14.442Z"
   },
   {
    "duration": 11,
    "start_time": "2022-11-19T11:36:14.453Z"
   },
   {
    "duration": 14,
    "start_time": "2022-11-19T11:36:14.466Z"
   },
   {
    "duration": 3,
    "start_time": "2022-11-19T11:36:14.482Z"
   },
   {
    "duration": 37,
    "start_time": "2022-11-19T11:36:14.487Z"
   },
   {
    "duration": 20,
    "start_time": "2022-11-19T11:36:14.526Z"
   },
   {
    "duration": 4,
    "start_time": "2022-11-19T11:36:14.548Z"
   },
   {
    "duration": 9,
    "start_time": "2022-11-19T11:36:14.553Z"
   },
   {
    "duration": 10,
    "start_time": "2022-11-19T11:36:27.484Z"
   },
   {
    "duration": 46,
    "start_time": "2022-11-19T11:36:41.749Z"
   },
   {
    "duration": 9,
    "start_time": "2022-11-19T11:36:41.797Z"
   },
   {
    "duration": 11,
    "start_time": "2022-11-19T11:36:41.808Z"
   },
   {
    "duration": 12,
    "start_time": "2022-11-19T11:36:41.821Z"
   },
   {
    "duration": 4,
    "start_time": "2022-11-19T11:36:41.835Z"
   },
   {
    "duration": 16,
    "start_time": "2022-11-19T11:36:41.840Z"
   },
   {
    "duration": 14,
    "start_time": "2022-11-19T11:36:41.857Z"
   },
   {
    "duration": 5,
    "start_time": "2022-11-19T11:36:41.872Z"
   },
   {
    "duration": 6,
    "start_time": "2022-11-19T11:36:41.878Z"
   },
   {
    "duration": 9,
    "start_time": "2022-11-19T11:36:43.815Z"
   },
   {
    "duration": 4,
    "start_time": "2022-11-19T11:36:48.159Z"
   },
   {
    "duration": 5,
    "start_time": "2022-11-19T11:36:54.093Z"
   },
   {
    "duration": 46,
    "start_time": "2022-11-19T11:37:35.743Z"
   },
   {
    "duration": 14,
    "start_time": "2022-11-19T11:37:35.791Z"
   },
   {
    "duration": 16,
    "start_time": "2022-11-19T11:37:35.806Z"
   },
   {
    "duration": 18,
    "start_time": "2022-11-19T11:37:35.823Z"
   },
   {
    "duration": 4,
    "start_time": "2022-11-19T11:37:35.843Z"
   },
   {
    "duration": 14,
    "start_time": "2022-11-19T11:37:35.849Z"
   },
   {
    "duration": 21,
    "start_time": "2022-11-19T11:37:35.865Z"
   },
   {
    "duration": 5,
    "start_time": "2022-11-19T11:37:35.887Z"
   },
   {
    "duration": 29,
    "start_time": "2022-11-19T11:37:35.893Z"
   },
   {
    "duration": 32,
    "start_time": "2022-11-19T11:37:35.923Z"
   },
   {
    "duration": 11,
    "start_time": "2022-11-19T11:37:35.956Z"
   },
   {
    "duration": 13,
    "start_time": "2022-11-19T11:37:41.109Z"
   },
   {
    "duration": 4,
    "start_time": "2022-11-19T11:37:46.822Z"
   },
   {
    "duration": 25,
    "start_time": "2022-11-19T11:38:21.370Z"
   },
   {
    "duration": 24,
    "start_time": "2022-11-19T11:39:05.683Z"
   },
   {
    "duration": 32,
    "start_time": "2022-11-19T11:39:15.173Z"
   },
   {
    "duration": 44,
    "start_time": "2022-11-19T11:52:59.401Z"
   },
   {
    "duration": 5,
    "start_time": "2022-11-19T11:53:05.997Z"
   },
   {
    "duration": 6,
    "start_time": "2022-11-19T11:53:29.722Z"
   },
   {
    "duration": 4,
    "start_time": "2022-11-19T11:53:40.073Z"
   },
   {
    "duration": 5,
    "start_time": "2022-11-19T11:53:47.017Z"
   },
   {
    "duration": 5,
    "start_time": "2022-11-19T11:54:13.749Z"
   },
   {
    "duration": 514,
    "start_time": "2022-11-19T11:54:44.273Z"
   },
   {
    "duration": 5,
    "start_time": "2022-11-19T11:54:56.476Z"
   },
   {
    "duration": 8,
    "start_time": "2022-11-19T11:55:22.303Z"
   },
   {
    "duration": 7,
    "start_time": "2022-11-19T11:55:53.130Z"
   },
   {
    "duration": 7,
    "start_time": "2022-11-19T11:56:05.798Z"
   },
   {
    "duration": 6,
    "start_time": "2022-11-19T11:56:23.445Z"
   },
   {
    "duration": 6,
    "start_time": "2022-11-19T11:56:34.553Z"
   },
   {
    "duration": 5,
    "start_time": "2022-11-19T11:56:50.084Z"
   },
   {
    "duration": 6,
    "start_time": "2022-11-19T11:56:59.990Z"
   },
   {
    "duration": 5,
    "start_time": "2022-11-19T11:57:28.014Z"
   },
   {
    "duration": 6,
    "start_time": "2022-11-19T11:57:53.426Z"
   },
   {
    "duration": 431,
    "start_time": "2022-11-19T11:58:56.013Z"
   },
   {
    "duration": 375,
    "start_time": "2022-11-19T11:59:15.806Z"
   },
   {
    "duration": 5,
    "start_time": "2022-11-19T11:59:23.551Z"
   },
   {
    "duration": 7,
    "start_time": "2022-11-19T11:59:34.497Z"
   },
   {
    "duration": 50,
    "start_time": "2022-11-26T13:23:38.016Z"
   },
   {
    "duration": 9,
    "start_time": "2022-11-26T13:23:38.068Z"
   },
   {
    "duration": 11,
    "start_time": "2022-11-26T13:23:38.079Z"
   },
   {
    "duration": 13,
    "start_time": "2022-11-26T13:23:38.091Z"
   },
   {
    "duration": 3,
    "start_time": "2022-11-26T13:23:38.106Z"
   },
   {
    "duration": 18,
    "start_time": "2022-11-26T13:23:38.110Z"
   },
   {
    "duration": 16,
    "start_time": "2022-11-26T13:23:38.129Z"
   },
   {
    "duration": 4,
    "start_time": "2022-11-26T13:23:38.147Z"
   },
   {
    "duration": 6,
    "start_time": "2022-11-26T13:23:38.153Z"
   },
   {
    "duration": 34,
    "start_time": "2022-11-26T13:23:38.161Z"
   },
   {
    "duration": 34,
    "start_time": "2022-11-26T13:23:38.196Z"
   },
   {
    "duration": 15,
    "start_time": "2022-11-26T13:23:38.232Z"
   },
   {
    "duration": 25,
    "start_time": "2022-11-26T13:23:38.249Z"
   },
   {
    "duration": 6,
    "start_time": "2022-11-26T13:23:38.276Z"
   },
   {
    "duration": 5,
    "start_time": "2022-11-26T13:23:38.283Z"
   },
   {
    "duration": 32,
    "start_time": "2022-11-26T13:23:38.289Z"
   },
   {
    "duration": 5,
    "start_time": "2022-11-26T13:23:38.323Z"
   },
   {
    "duration": 57,
    "start_time": "2022-11-26T13:23:48.577Z"
   },
   {
    "duration": 2922,
    "start_time": "2022-11-26T13:26:18.298Z"
   },
   {
    "duration": 3155,
    "start_time": "2022-11-26T13:36:15.276Z"
   },
   {
    "duration": 94,
    "start_time": "2022-11-26T13:44:43.373Z"
   },
   {
    "duration": 3019,
    "start_time": "2022-11-26T13:45:33.404Z"
   },
   {
    "duration": 8292,
    "start_time": "2022-11-26T13:47:23.231Z"
   },
   {
    "duration": 11898,
    "start_time": "2022-11-26T13:48:00.324Z"
   },
   {
    "duration": 45833,
    "start_time": "2022-11-26T13:48:48.889Z"
   },
   {
    "duration": 77243,
    "start_time": "2022-11-26T13:51:37.286Z"
   },
   {
    "duration": 45678,
    "start_time": "2022-11-26T13:53:56.349Z"
   },
   {
    "duration": 76895,
    "start_time": "2022-11-26T13:55:02.327Z"
   },
   {
    "duration": 77290,
    "start_time": "2022-11-26T13:59:07.739Z"
   },
   {
    "duration": 77877,
    "start_time": "2022-11-26T14:01:15.150Z"
   },
   {
    "duration": 2931,
    "start_time": "2022-11-26T14:04:10.022Z"
   },
   {
    "duration": 3074,
    "start_time": "2022-11-26T14:04:32.247Z"
   },
   {
    "duration": 3129,
    "start_time": "2022-11-26T14:04:53.015Z"
   },
   {
    "duration": 80222,
    "start_time": "2022-11-26T14:05:30.121Z"
   },
   {
    "duration": 14,
    "start_time": "2022-11-26T14:08:03.652Z"
   },
   {
    "duration": 13,
    "start_time": "2022-11-26T14:08:49.931Z"
   },
   {
    "duration": 20,
    "start_time": "2022-11-26T14:10:54.537Z"
   },
   {
    "duration": 77673,
    "start_time": "2022-11-26T14:11:35.151Z"
   },
   {
    "duration": 77588,
    "start_time": "2022-11-26T14:13:04.544Z"
   },
   {
    "duration": 49,
    "start_time": "2022-11-26T14:55:58.155Z"
   },
   {
    "duration": 17,
    "start_time": "2022-11-26T15:06:36.025Z"
   },
   {
    "duration": 10,
    "start_time": "2022-11-26T15:06:57.039Z"
   },
   {
    "duration": 665,
    "start_time": "2022-11-26T15:11:22.788Z"
   },
   {
    "duration": 8,
    "start_time": "2022-11-26T15:11:34.016Z"
   },
   {
    "duration": 659,
    "start_time": "2022-11-26T15:11:36.767Z"
   },
   {
    "duration": 10,
    "start_time": "2022-11-26T15:11:53.076Z"
   },
   {
    "duration": 866,
    "start_time": "2022-11-26T15:11:57.526Z"
   },
   {
    "duration": 8,
    "start_time": "2022-11-26T15:12:08.686Z"
   },
   {
    "duration": 586,
    "start_time": "2022-11-26T15:12:12.013Z"
   },
   {
    "duration": 13,
    "start_time": "2022-11-26T15:15:39.049Z"
   },
   {
    "duration": 98379,
    "start_time": "2022-11-26T15:16:16.347Z"
   },
   {
    "duration": 79,
    "start_time": "2022-11-26T15:23:43.127Z"
   },
   {
    "duration": 9,
    "start_time": "2022-11-26T15:25:46.536Z"
   },
   {
    "duration": 646,
    "start_time": "2022-11-26T15:25:49.826Z"
   },
   {
    "duration": 106721,
    "start_time": "2022-11-26T15:25:59.308Z"
   },
   {
    "duration": 55,
    "start_time": "2022-11-26T15:29:20.193Z"
   },
   {
    "duration": 104451,
    "start_time": "2022-11-26T15:32:03.583Z"
   },
   {
    "duration": 86,
    "start_time": "2022-11-26T15:34:07.900Z"
   },
   {
    "duration": 54,
    "start_time": "2022-11-26T15:34:16.254Z"
   },
   {
    "duration": 86,
    "start_time": "2022-11-26T15:34:22.513Z"
   },
   {
    "duration": 105365,
    "start_time": "2022-11-26T15:36:32.859Z"
   },
   {
    "duration": 167,
    "start_time": "2022-11-26T15:38:18.226Z"
   },
   {
    "duration": 77,
    "start_time": "2022-11-26T15:39:07.552Z"
   },
   {
    "duration": 53,
    "start_time": "2022-11-26T15:39:40.003Z"
   },
   {
    "duration": 95,
    "start_time": "2022-11-26T15:39:55.087Z"
   },
   {
    "duration": 711,
    "start_time": "2022-11-26T15:41:22.622Z"
   },
   {
    "duration": 106045,
    "start_time": "2022-11-26T15:42:02.895Z"
   },
   {
    "duration": 106328,
    "start_time": "2022-11-26T15:44:13.498Z"
   },
   {
    "duration": 55,
    "start_time": "2022-11-26T15:46:19.744Z"
   },
   {
    "duration": 72,
    "start_time": "2022-11-26T15:46:22.434Z"
   },
   {
    "duration": 56,
    "start_time": "2022-11-26T15:46:24.592Z"
   },
   {
    "duration": 83,
    "start_time": "2022-11-26T15:46:26.579Z"
   },
   {
    "duration": 57,
    "start_time": "2022-11-26T15:55:35.321Z"
   },
   {
    "duration": 74,
    "start_time": "2022-11-26T15:56:30.318Z"
   },
   {
    "duration": 53,
    "start_time": "2022-11-26T15:57:39.817Z"
   },
   {
    "duration": 69,
    "start_time": "2022-11-26T15:59:25.561Z"
   },
   {
    "duration": 54,
    "start_time": "2022-11-26T16:00:07.248Z"
   },
   {
    "duration": 4,
    "start_time": "2022-11-26T18:04:06.858Z"
   },
   {
    "duration": 45,
    "start_time": "2022-11-26T18:07:12.017Z"
   },
   {
    "duration": 9,
    "start_time": "2022-11-26T18:07:12.064Z"
   },
   {
    "duration": 11,
    "start_time": "2022-11-26T18:07:12.074Z"
   },
   {
    "duration": 14,
    "start_time": "2022-11-26T18:07:12.087Z"
   },
   {
    "duration": 3,
    "start_time": "2022-11-26T18:07:12.103Z"
   },
   {
    "duration": 22,
    "start_time": "2022-11-26T18:07:12.108Z"
   },
   {
    "duration": 17,
    "start_time": "2022-11-26T18:07:12.131Z"
   },
   {
    "duration": 5,
    "start_time": "2022-11-26T18:07:12.150Z"
   },
   {
    "duration": 9,
    "start_time": "2022-11-26T18:07:12.157Z"
   },
   {
    "duration": 53,
    "start_time": "2022-11-26T18:07:12.169Z"
   },
   {
    "duration": 11,
    "start_time": "2022-11-26T18:07:12.223Z"
   },
   {
    "duration": 13,
    "start_time": "2022-11-26T18:07:12.236Z"
   },
   {
    "duration": 25,
    "start_time": "2022-11-26T18:07:12.250Z"
   },
   {
    "duration": 6,
    "start_time": "2022-11-26T18:07:12.276Z"
   },
   {
    "duration": 46,
    "start_time": "2022-11-26T18:07:12.283Z"
   },
   {
    "duration": 11,
    "start_time": "2022-11-26T18:07:12.330Z"
   },
   {
    "duration": 6,
    "start_time": "2022-11-26T18:07:12.343Z"
   },
   {
    "duration": 76673,
    "start_time": "2022-11-26T18:07:12.350Z"
   },
   {
    "duration": 76899,
    "start_time": "2022-11-26T18:08:29.025Z"
   },
   {
    "duration": 103,
    "start_time": "2022-11-26T18:09:45.926Z"
   },
   {
    "duration": 731,
    "start_time": "2022-11-26T18:09:46.031Z"
   },
   {
    "duration": 105760,
    "start_time": "2022-11-26T18:09:46.764Z"
   },
   {
    "duration": 164,
    "start_time": "2022-11-26T18:11:32.621Z"
   },
   {
    "duration": 107,
    "start_time": "2022-11-26T18:11:32.787Z"
   },
   {
    "duration": 66,
    "start_time": "2022-11-26T18:11:32.895Z"
   },
   {
    "duration": 502,
    "start_time": "2022-11-27T07:53:38.303Z"
   },
   {
    "duration": 14,
    "start_time": "2022-11-27T07:53:38.807Z"
   },
   {
    "duration": 13,
    "start_time": "2022-11-27T07:53:38.823Z"
   },
   {
    "duration": 13,
    "start_time": "2022-11-27T07:53:38.838Z"
   },
   {
    "duration": 15,
    "start_time": "2022-11-27T07:53:38.853Z"
   },
   {
    "duration": 18,
    "start_time": "2022-11-27T07:53:38.869Z"
   },
   {
    "duration": 33,
    "start_time": "2022-11-27T07:53:38.889Z"
   },
   {
    "duration": 639,
    "start_time": "2022-11-27T07:53:47.766Z"
   },
   {
    "duration": 5,
    "start_time": "2022-11-27T07:53:55.037Z"
   },
   {
    "duration": 5,
    "start_time": "2022-11-27T07:53:58.019Z"
   },
   {
    "duration": 11,
    "start_time": "2022-11-27T08:14:28.441Z"
   },
   {
    "duration": 115,
    "start_time": "2022-11-27T08:16:06.141Z"
   },
   {
    "duration": 16,
    "start_time": "2022-11-27T08:17:01.659Z"
   },
   {
    "duration": 25,
    "start_time": "2022-11-27T08:17:08.253Z"
   },
   {
    "duration": 14,
    "start_time": "2022-11-27T08:17:17.729Z"
   },
   {
    "duration": 51,
    "start_time": "2022-11-27T08:17:32.224Z"
   },
   {
    "duration": 10,
    "start_time": "2022-11-27T08:17:32.277Z"
   },
   {
    "duration": 12,
    "start_time": "2022-11-27T08:17:32.289Z"
   },
   {
    "duration": 17,
    "start_time": "2022-11-27T08:17:32.303Z"
   },
   {
    "duration": 14,
    "start_time": "2022-11-27T08:17:36.277Z"
   },
   {
    "duration": 17,
    "start_time": "2022-11-27T08:17:40.062Z"
   },
   {
    "duration": 13,
    "start_time": "2022-11-27T08:17:44.027Z"
   },
   {
    "duration": 5,
    "start_time": "2022-11-27T08:17:49.262Z"
   },
   {
    "duration": 5,
    "start_time": "2022-11-27T08:17:51.026Z"
   },
   {
    "duration": 12,
    "start_time": "2022-11-27T08:17:53.329Z"
   },
   {
    "duration": 17,
    "start_time": "2022-11-27T08:17:56.342Z"
   },
   {
    "duration": 27,
    "start_time": "2022-11-27T08:18:00.268Z"
   },
   {
    "duration": 47,
    "start_time": "2022-11-27T08:18:44.324Z"
   },
   {
    "duration": 11,
    "start_time": "2022-11-27T08:18:44.373Z"
   },
   {
    "duration": 11,
    "start_time": "2022-11-27T08:18:44.386Z"
   },
   {
    "duration": 25,
    "start_time": "2022-11-27T08:18:44.399Z"
   },
   {
    "duration": 4,
    "start_time": "2022-11-27T08:18:44.427Z"
   },
   {
    "duration": 16,
    "start_time": "2022-11-27T08:18:44.432Z"
   },
   {
    "duration": 18,
    "start_time": "2022-11-27T08:18:44.449Z"
   },
   {
    "duration": 13,
    "start_time": "2022-11-27T08:18:44.587Z"
   },
   {
    "duration": 5,
    "start_time": "2022-11-27T08:18:44.602Z"
   },
   {
    "duration": 5,
    "start_time": "2022-11-27T08:18:44.609Z"
   },
   {
    "duration": 12,
    "start_time": "2022-11-27T08:18:47.416Z"
   },
   {
    "duration": 26,
    "start_time": "2022-11-27T08:19:31.141Z"
   },
   {
    "duration": 27,
    "start_time": "2022-11-27T08:20:03.408Z"
   },
   {
    "duration": 49,
    "start_time": "2022-11-27T08:20:48.827Z"
   },
   {
    "duration": 11,
    "start_time": "2022-11-27T08:20:48.879Z"
   },
   {
    "duration": 12,
    "start_time": "2022-11-27T08:20:48.891Z"
   },
   {
    "duration": 13,
    "start_time": "2022-11-27T08:20:48.905Z"
   },
   {
    "duration": 4,
    "start_time": "2022-11-27T08:20:51.035Z"
   },
   {
    "duration": 16,
    "start_time": "2022-11-27T08:20:56.758Z"
   },
   {
    "duration": 14,
    "start_time": "2022-11-27T08:21:00.878Z"
   },
   {
    "duration": 12,
    "start_time": "2022-11-27T08:21:04.784Z"
   },
   {
    "duration": 6,
    "start_time": "2022-11-27T08:21:08.139Z"
   },
   {
    "duration": 5,
    "start_time": "2022-11-27T08:21:09.344Z"
   },
   {
    "duration": 10,
    "start_time": "2022-11-27T08:21:11.237Z"
   },
   {
    "duration": 23,
    "start_time": "2022-11-27T08:21:17.143Z"
   },
   {
    "duration": 26,
    "start_time": "2022-11-27T08:21:28.605Z"
   },
   {
    "duration": 48,
    "start_time": "2022-11-27T08:22:12.262Z"
   },
   {
    "duration": 10,
    "start_time": "2022-11-27T08:22:12.312Z"
   },
   {
    "duration": 13,
    "start_time": "2022-11-27T08:22:12.323Z"
   },
   {
    "duration": 43,
    "start_time": "2022-11-27T08:22:12.337Z"
   },
   {
    "duration": 24,
    "start_time": "2022-11-27T08:22:12.382Z"
   },
   {
    "duration": 32,
    "start_time": "2022-11-27T08:22:12.408Z"
   },
   {
    "duration": 32,
    "start_time": "2022-11-27T08:22:12.441Z"
   },
   {
    "duration": 12,
    "start_time": "2022-11-27T08:22:12.475Z"
   },
   {
    "duration": 19,
    "start_time": "2022-11-27T08:22:12.488Z"
   },
   {
    "duration": 24,
    "start_time": "2022-11-27T08:22:12.509Z"
   },
   {
    "duration": 21,
    "start_time": "2022-11-27T08:22:12.534Z"
   },
   {
    "duration": 25,
    "start_time": "2022-11-27T08:22:26.304Z"
   },
   {
    "duration": 24,
    "start_time": "2022-11-27T08:22:55.196Z"
   },
   {
    "duration": 28,
    "start_time": "2022-11-27T08:23:12.784Z"
   },
   {
    "duration": 25,
    "start_time": "2022-11-27T08:23:18.418Z"
   },
   {
    "duration": 26,
    "start_time": "2022-11-27T08:24:02.733Z"
   },
   {
    "duration": 48,
    "start_time": "2022-11-27T08:24:41.082Z"
   },
   {
    "duration": 10,
    "start_time": "2022-11-27T08:24:41.132Z"
   },
   {
    "duration": 11,
    "start_time": "2022-11-27T08:24:41.143Z"
   },
   {
    "duration": 17,
    "start_time": "2022-11-27T08:24:41.156Z"
   },
   {
    "duration": 2,
    "start_time": "2022-11-27T08:24:41.175Z"
   },
   {
    "duration": 15,
    "start_time": "2022-11-27T08:24:41.179Z"
   },
   {
    "duration": 14,
    "start_time": "2022-11-27T08:24:41.196Z"
   },
   {
    "duration": 31,
    "start_time": "2022-11-27T08:24:41.212Z"
   },
   {
    "duration": 4,
    "start_time": "2022-11-27T08:24:41.245Z"
   },
   {
    "duration": 6,
    "start_time": "2022-11-27T08:24:41.251Z"
   },
   {
    "duration": 12,
    "start_time": "2022-11-27T08:24:41.259Z"
   },
   {
    "duration": 25,
    "start_time": "2022-11-27T08:24:44.219Z"
   },
   {
    "duration": 25,
    "start_time": "2022-11-27T08:24:48.922Z"
   },
   {
    "duration": 14,
    "start_time": "2022-11-27T08:25:26.277Z"
   },
   {
    "duration": 26,
    "start_time": "2022-11-27T08:26:41.621Z"
   },
   {
    "duration": 38,
    "start_time": "2022-11-27T08:26:52.439Z"
   },
   {
    "duration": 35,
    "start_time": "2022-11-27T08:27:07.639Z"
   },
   {
    "duration": 15,
    "start_time": "2022-11-27T08:27:14.526Z"
   },
   {
    "duration": 30,
    "start_time": "2022-11-27T08:27:41.539Z"
   },
   {
    "duration": 13,
    "start_time": "2022-11-27T08:27:44.793Z"
   },
   {
    "duration": 10,
    "start_time": "2022-11-27T08:28:11.863Z"
   },
   {
    "duration": 11,
    "start_time": "2022-11-27T08:29:20.587Z"
   },
   {
    "duration": 26,
    "start_time": "2022-11-27T08:29:34.540Z"
   },
   {
    "duration": 48,
    "start_time": "2022-11-27T08:29:42.650Z"
   },
   {
    "duration": 10,
    "start_time": "2022-11-27T08:29:42.700Z"
   },
   {
    "duration": 12,
    "start_time": "2022-11-27T08:29:42.711Z"
   },
   {
    "duration": 16,
    "start_time": "2022-11-27T08:29:42.725Z"
   },
   {
    "duration": 2,
    "start_time": "2022-11-27T08:29:42.743Z"
   },
   {
    "duration": 16,
    "start_time": "2022-11-27T08:29:42.746Z"
   },
   {
    "duration": 24,
    "start_time": "2022-11-27T08:29:42.763Z"
   },
   {
    "duration": 12,
    "start_time": "2022-11-27T08:29:42.789Z"
   },
   {
    "duration": 4,
    "start_time": "2022-11-27T08:29:42.802Z"
   },
   {
    "duration": 8,
    "start_time": "2022-11-27T08:29:42.808Z"
   },
   {
    "duration": 10,
    "start_time": "2022-11-27T08:29:42.836Z"
   },
   {
    "duration": 55,
    "start_time": "2022-11-27T08:29:42.848Z"
   },
   {
    "duration": 14,
    "start_time": "2022-11-27T08:29:42.905Z"
   },
   {
    "duration": 23,
    "start_time": "2022-11-27T08:29:42.922Z"
   },
   {
    "duration": 26,
    "start_time": "2022-11-27T08:29:46.813Z"
   },
   {
    "duration": 30,
    "start_time": "2022-11-27T08:29:54.747Z"
   },
   {
    "duration": 51,
    "start_time": "2022-11-27T08:29:58.339Z"
   },
   {
    "duration": 12,
    "start_time": "2022-11-27T08:29:58.392Z"
   },
   {
    "duration": 13,
    "start_time": "2022-11-27T08:29:58.406Z"
   },
   {
    "duration": 18,
    "start_time": "2022-11-27T08:29:58.421Z"
   },
   {
    "duration": 2,
    "start_time": "2022-11-27T08:29:58.442Z"
   },
   {
    "duration": 18,
    "start_time": "2022-11-27T08:29:58.446Z"
   },
   {
    "duration": 22,
    "start_time": "2022-11-27T08:29:58.466Z"
   },
   {
    "duration": 13,
    "start_time": "2022-11-27T08:29:58.490Z"
   },
   {
    "duration": 30,
    "start_time": "2022-11-27T08:29:58.505Z"
   },
   {
    "duration": 4,
    "start_time": "2022-11-27T08:29:58.537Z"
   },
   {
    "duration": 17,
    "start_time": "2022-11-27T08:29:58.543Z"
   },
   {
    "duration": 44,
    "start_time": "2022-11-27T08:29:58.561Z"
   },
   {
    "duration": 28,
    "start_time": "2022-11-27T08:29:58.607Z"
   },
   {
    "duration": 17,
    "start_time": "2022-11-27T08:29:58.637Z"
   },
   {
    "duration": 29,
    "start_time": "2022-11-27T08:29:58.656Z"
   },
   {
    "duration": 27,
    "start_time": "2022-11-27T08:30:03.462Z"
   },
   {
    "duration": 7,
    "start_time": "2022-11-27T08:30:11.300Z"
   },
   {
    "duration": 5,
    "start_time": "2022-11-27T08:30:12.808Z"
   },
   {
    "duration": 5,
    "start_time": "2022-11-27T08:30:14.560Z"
   },
   {
    "duration": 5,
    "start_time": "2022-11-27T08:30:15.699Z"
   },
   {
    "duration": 79326,
    "start_time": "2022-11-27T08:30:24.315Z"
   },
   {
    "duration": 79125,
    "start_time": "2022-11-27T08:32:21.311Z"
   },
   {
    "duration": 24,
    "start_time": "2022-11-27T08:33:59.389Z"
   },
   {
    "duration": 9,
    "start_time": "2022-11-27T08:38:02.093Z"
   },
   {
    "duration": 5,
    "start_time": "2022-11-27T08:38:13.119Z"
   },
   {
    "duration": 5,
    "start_time": "2022-11-27T08:38:23.396Z"
   },
   {
    "duration": 48,
    "start_time": "2022-11-27T08:39:07.091Z"
   },
   {
    "duration": 10,
    "start_time": "2022-11-27T08:39:07.142Z"
   },
   {
    "duration": 18,
    "start_time": "2022-11-27T08:39:07.154Z"
   },
   {
    "duration": 27,
    "start_time": "2022-11-27T08:39:07.174Z"
   },
   {
    "duration": 2,
    "start_time": "2022-11-27T08:39:07.204Z"
   },
   {
    "duration": 20,
    "start_time": "2022-11-27T08:39:07.208Z"
   },
   {
    "duration": 29,
    "start_time": "2022-11-27T08:39:07.230Z"
   },
   {
    "duration": 13,
    "start_time": "2022-11-27T08:39:07.261Z"
   },
   {
    "duration": 27,
    "start_time": "2022-11-27T08:39:07.276Z"
   },
   {
    "duration": 27,
    "start_time": "2022-11-27T08:39:07.305Z"
   },
   {
    "duration": 23,
    "start_time": "2022-11-27T08:39:07.334Z"
   },
   {
    "duration": 5,
    "start_time": "2022-11-27T08:39:11.323Z"
   },
   {
    "duration": 39,
    "start_time": "2022-11-27T08:39:27.258Z"
   },
   {
    "duration": 49,
    "start_time": "2022-11-27T08:43:10.959Z"
   },
   {
    "duration": 11,
    "start_time": "2022-11-27T08:43:11.009Z"
   },
   {
    "duration": 13,
    "start_time": "2022-11-27T08:43:11.022Z"
   },
   {
    "duration": 24,
    "start_time": "2022-11-27T08:43:11.038Z"
   },
   {
    "duration": 12,
    "start_time": "2022-11-27T08:43:11.064Z"
   },
   {
    "duration": 23,
    "start_time": "2022-11-27T08:43:11.078Z"
   },
   {
    "duration": 36,
    "start_time": "2022-11-27T08:43:11.103Z"
   },
   {
    "duration": 13,
    "start_time": "2022-11-27T08:43:11.140Z"
   },
   {
    "duration": 11,
    "start_time": "2022-11-27T08:43:11.155Z"
   },
   {
    "duration": 15,
    "start_time": "2022-11-27T08:43:11.168Z"
   },
   {
    "duration": 12,
    "start_time": "2022-11-27T08:43:21.525Z"
   },
   {
    "duration": 5,
    "start_time": "2022-11-27T08:43:26.110Z"
   },
   {
    "duration": 40,
    "start_time": "2022-11-27T08:43:32.161Z"
   },
   {
    "duration": 5,
    "start_time": "2022-11-27T08:43:36.503Z"
   },
   {
    "duration": 52,
    "start_time": "2022-11-27T08:44:11.487Z"
   },
   {
    "duration": 10,
    "start_time": "2022-11-27T08:44:11.542Z"
   },
   {
    "duration": 27,
    "start_time": "2022-11-27T08:44:11.554Z"
   },
   {
    "duration": 19,
    "start_time": "2022-11-27T08:44:11.583Z"
   },
   {
    "duration": 5,
    "start_time": "2022-11-27T08:44:11.605Z"
   },
   {
    "duration": 26,
    "start_time": "2022-11-27T08:44:11.612Z"
   },
   {
    "duration": 16,
    "start_time": "2022-11-27T08:44:11.640Z"
   },
   {
    "duration": 12,
    "start_time": "2022-11-27T08:44:11.658Z"
   },
   {
    "duration": 5,
    "start_time": "2022-11-27T08:44:11.671Z"
   },
   {
    "duration": 8,
    "start_time": "2022-11-27T08:44:11.678Z"
   },
   {
    "duration": 21,
    "start_time": "2022-11-27T08:44:11.688Z"
   },
   {
    "duration": 4,
    "start_time": "2022-11-27T08:44:14.349Z"
   },
   {
    "duration": 11,
    "start_time": "2022-11-27T08:44:17.010Z"
   },
   {
    "duration": 4,
    "start_time": "2022-11-27T08:44:20.370Z"
   },
   {
    "duration": 47,
    "start_time": "2022-11-27T08:52:42.749Z"
   },
   {
    "duration": 9,
    "start_time": "2022-11-27T08:52:42.798Z"
   },
   {
    "duration": 11,
    "start_time": "2022-11-27T08:52:42.809Z"
   },
   {
    "duration": 16,
    "start_time": "2022-11-27T08:52:42.821Z"
   },
   {
    "duration": 4,
    "start_time": "2022-11-27T08:52:44.922Z"
   },
   {
    "duration": 13,
    "start_time": "2022-11-27T08:52:48.604Z"
   },
   {
    "duration": 14,
    "start_time": "2022-11-27T08:52:51.843Z"
   },
   {
    "duration": 11,
    "start_time": "2022-11-27T08:52:55.107Z"
   },
   {
    "duration": 5,
    "start_time": "2022-11-27T08:52:57.444Z"
   },
   {
    "duration": 5,
    "start_time": "2022-11-27T08:52:58.913Z"
   },
   {
    "duration": 12,
    "start_time": "2022-11-27T08:53:01.198Z"
   },
   {
    "duration": 5,
    "start_time": "2022-11-27T08:53:14.114Z"
   },
   {
    "duration": 12,
    "start_time": "2022-11-27T08:53:21.767Z"
   },
   {
    "duration": 25,
    "start_time": "2022-11-27T08:53:32.030Z"
   },
   {
    "duration": 5,
    "start_time": "2022-11-27T08:53:48.368Z"
   },
   {
    "duration": 11,
    "start_time": "2022-11-27T08:54:17.097Z"
   },
   {
    "duration": 11,
    "start_time": "2022-11-27T08:54:20.102Z"
   },
   {
    "duration": 50,
    "start_time": "2022-11-27T09:11:36.899Z"
   },
   {
    "duration": 13,
    "start_time": "2022-11-27T09:11:36.951Z"
   },
   {
    "duration": 17,
    "start_time": "2022-11-27T09:11:36.965Z"
   },
   {
    "duration": 23,
    "start_time": "2022-11-27T09:11:36.984Z"
   },
   {
    "duration": 5,
    "start_time": "2022-11-27T09:11:37.009Z"
   },
   {
    "duration": 32,
    "start_time": "2022-11-27T09:11:37.016Z"
   },
   {
    "duration": 24,
    "start_time": "2022-11-27T09:11:37.049Z"
   },
   {
    "duration": 13,
    "start_time": "2022-11-27T09:11:39.605Z"
   },
   {
    "duration": 6,
    "start_time": "2022-11-27T09:11:42.676Z"
   },
   {
    "duration": 4,
    "start_time": "2022-11-27T09:11:43.827Z"
   },
   {
    "duration": 10,
    "start_time": "2022-11-27T09:11:45.467Z"
   },
   {
    "duration": 5,
    "start_time": "2022-11-27T09:11:47.509Z"
   },
   {
    "duration": 25,
    "start_time": "2022-11-27T09:11:49.838Z"
   },
   {
    "duration": 4,
    "start_time": "2022-11-27T09:12:09.835Z"
   },
   {
    "duration": 54,
    "start_time": "2022-11-27T09:12:31.098Z"
   },
   {
    "duration": 14,
    "start_time": "2022-11-27T09:12:31.155Z"
   },
   {
    "duration": 21,
    "start_time": "2022-11-27T09:12:31.171Z"
   },
   {
    "duration": 46,
    "start_time": "2022-11-27T09:12:31.194Z"
   },
   {
    "duration": 23,
    "start_time": "2022-11-27T09:12:31.243Z"
   },
   {
    "duration": 29,
    "start_time": "2022-11-27T09:12:31.268Z"
   },
   {
    "duration": 48,
    "start_time": "2022-11-27T09:12:31.299Z"
   },
   {
    "duration": 17,
    "start_time": "2022-11-27T09:12:31.350Z"
   },
   {
    "duration": 6,
    "start_time": "2022-11-27T09:12:31.369Z"
   },
   {
    "duration": 17,
    "start_time": "2022-11-27T09:12:31.376Z"
   },
   {
    "duration": 44,
    "start_time": "2022-11-27T09:12:31.395Z"
   },
   {
    "duration": 9,
    "start_time": "2022-11-27T09:12:31.441Z"
   },
   {
    "duration": 26,
    "start_time": "2022-11-27T09:12:35.253Z"
   },
   {
    "duration": 5,
    "start_time": "2022-11-27T09:12:36.873Z"
   },
   {
    "duration": 11,
    "start_time": "2022-11-27T09:12:44.307Z"
   },
   {
    "duration": 11,
    "start_time": "2022-11-27T09:12:46.313Z"
   },
   {
    "duration": 51,
    "start_time": "2022-11-27T09:13:01.995Z"
   },
   {
    "duration": 10,
    "start_time": "2022-11-27T09:13:02.048Z"
   },
   {
    "duration": 18,
    "start_time": "2022-11-27T09:13:02.060Z"
   },
   {
    "duration": 24,
    "start_time": "2022-11-27T09:13:02.080Z"
   },
   {
    "duration": 4,
    "start_time": "2022-11-27T09:13:02.106Z"
   },
   {
    "duration": 30,
    "start_time": "2022-11-27T09:13:02.112Z"
   },
   {
    "duration": 21,
    "start_time": "2022-11-27T09:13:02.144Z"
   },
   {
    "duration": 15,
    "start_time": "2022-11-27T09:13:02.166Z"
   },
   {
    "duration": 6,
    "start_time": "2022-11-27T09:13:02.183Z"
   },
   {
    "duration": 13,
    "start_time": "2022-11-27T09:13:02.191Z"
   },
   {
    "duration": 32,
    "start_time": "2022-11-27T09:13:02.206Z"
   },
   {
    "duration": 8,
    "start_time": "2022-11-27T09:13:02.240Z"
   },
   {
    "duration": 23,
    "start_time": "2022-11-27T09:13:04.350Z"
   },
   {
    "duration": 49,
    "start_time": "2022-11-27T09:16:28.337Z"
   },
   {
    "duration": 12,
    "start_time": "2022-11-27T09:16:28.388Z"
   },
   {
    "duration": 13,
    "start_time": "2022-11-27T09:16:28.401Z"
   },
   {
    "duration": 21,
    "start_time": "2022-11-27T09:16:28.416Z"
   },
   {
    "duration": 5,
    "start_time": "2022-11-27T09:16:28.439Z"
   },
   {
    "duration": 26,
    "start_time": "2022-11-27T09:16:28.445Z"
   },
   {
    "duration": 19,
    "start_time": "2022-11-27T09:16:28.472Z"
   },
   {
    "duration": 12,
    "start_time": "2022-11-27T09:16:28.492Z"
   },
   {
    "duration": 10,
    "start_time": "2022-11-27T09:16:28.505Z"
   },
   {
    "duration": 15,
    "start_time": "2022-11-27T09:16:28.517Z"
   },
   {
    "duration": 18,
    "start_time": "2022-11-27T09:16:28.535Z"
   },
   {
    "duration": 10,
    "start_time": "2022-11-27T09:16:28.555Z"
   },
   {
    "duration": 28,
    "start_time": "2022-11-27T09:16:33.497Z"
   },
   {
    "duration": 55,
    "start_time": "2022-11-27T09:17:03.637Z"
   },
   {
    "duration": 10,
    "start_time": "2022-11-27T09:17:03.694Z"
   },
   {
    "duration": 13,
    "start_time": "2022-11-27T09:17:03.706Z"
   },
   {
    "duration": 19,
    "start_time": "2022-11-27T09:17:03.721Z"
   },
   {
    "duration": 4,
    "start_time": "2022-11-27T09:17:03.742Z"
   },
   {
    "duration": 26,
    "start_time": "2022-11-27T09:17:03.748Z"
   },
   {
    "duration": 22,
    "start_time": "2022-11-27T09:17:03.776Z"
   },
   {
    "duration": 12,
    "start_time": "2022-11-27T09:17:03.800Z"
   },
   {
    "duration": 22,
    "start_time": "2022-11-27T09:17:03.814Z"
   },
   {
    "duration": 15,
    "start_time": "2022-11-27T09:17:03.838Z"
   },
   {
    "duration": 23,
    "start_time": "2022-11-27T09:17:03.854Z"
   },
   {
    "duration": 9,
    "start_time": "2022-11-27T09:17:03.879Z"
   },
   {
    "duration": 20,
    "start_time": "2022-11-27T09:17:06.185Z"
   },
   {
    "duration": 57,
    "start_time": "2022-11-27T09:18:02.798Z"
   },
   {
    "duration": 11,
    "start_time": "2022-11-27T09:18:02.858Z"
   },
   {
    "duration": 12,
    "start_time": "2022-11-27T09:18:02.871Z"
   },
   {
    "duration": 17,
    "start_time": "2022-11-27T09:18:02.884Z"
   },
   {
    "duration": 8,
    "start_time": "2022-11-27T09:18:02.903Z"
   },
   {
    "duration": 34,
    "start_time": "2022-11-27T09:18:02.912Z"
   },
   {
    "duration": 28,
    "start_time": "2022-11-27T09:18:02.948Z"
   },
   {
    "duration": 12,
    "start_time": "2022-11-27T09:18:02.978Z"
   },
   {
    "duration": 9,
    "start_time": "2022-11-27T09:18:02.992Z"
   },
   {
    "duration": 5,
    "start_time": "2022-11-27T09:18:03.003Z"
   },
   {
    "duration": 30,
    "start_time": "2022-11-27T09:18:03.010Z"
   },
   {
    "duration": 11,
    "start_time": "2022-11-27T09:18:03.043Z"
   },
   {
    "duration": 20,
    "start_time": "2022-11-27T09:18:19.780Z"
   },
   {
    "duration": 48,
    "start_time": "2022-11-27T09:18:47.715Z"
   },
   {
    "duration": 10,
    "start_time": "2022-11-27T09:18:47.765Z"
   },
   {
    "duration": 12,
    "start_time": "2022-11-27T09:18:47.776Z"
   },
   {
    "duration": 12,
    "start_time": "2022-11-27T09:18:47.790Z"
   },
   {
    "duration": 4,
    "start_time": "2022-11-27T09:18:47.804Z"
   },
   {
    "duration": 31,
    "start_time": "2022-11-27T09:18:47.809Z"
   },
   {
    "duration": 18,
    "start_time": "2022-11-27T09:18:47.841Z"
   },
   {
    "duration": 12,
    "start_time": "2022-11-27T09:18:47.861Z"
   },
   {
    "duration": 7,
    "start_time": "2022-11-27T09:18:47.875Z"
   },
   {
    "duration": 7,
    "start_time": "2022-11-27T09:18:47.883Z"
   },
   {
    "duration": 26,
    "start_time": "2022-11-27T09:18:47.891Z"
   },
   {
    "duration": 21,
    "start_time": "2022-11-27T09:18:47.918Z"
   },
   {
    "duration": 21,
    "start_time": "2022-11-27T09:18:50.621Z"
   },
   {
    "duration": 52,
    "start_time": "2022-11-27T09:20:09.546Z"
   },
   {
    "duration": 11,
    "start_time": "2022-11-27T09:20:09.601Z"
   },
   {
    "duration": 35,
    "start_time": "2022-11-27T09:20:09.614Z"
   },
   {
    "duration": 43,
    "start_time": "2022-11-27T09:20:09.651Z"
   },
   {
    "duration": 21,
    "start_time": "2022-11-27T09:20:09.696Z"
   },
   {
    "duration": 41,
    "start_time": "2022-11-27T09:20:09.719Z"
   },
   {
    "duration": 40,
    "start_time": "2022-11-27T09:20:09.763Z"
   },
   {
    "duration": 33,
    "start_time": "2022-11-27T09:20:09.805Z"
   },
   {
    "duration": 30,
    "start_time": "2022-11-27T09:20:09.840Z"
   },
   {
    "duration": 36,
    "start_time": "2022-11-27T09:20:09.872Z"
   },
   {
    "duration": 42,
    "start_time": "2022-11-27T09:20:09.910Z"
   },
   {
    "duration": 32,
    "start_time": "2022-11-27T09:20:09.954Z"
   },
   {
    "duration": 25,
    "start_time": "2022-11-27T09:20:11.557Z"
   },
   {
    "duration": 50,
    "start_time": "2022-11-27T09:21:17.322Z"
   },
   {
    "duration": 11,
    "start_time": "2022-11-27T09:21:17.374Z"
   },
   {
    "duration": 51,
    "start_time": "2022-11-27T09:21:17.387Z"
   },
   {
    "duration": 29,
    "start_time": "2022-11-27T09:21:17.440Z"
   },
   {
    "duration": 25,
    "start_time": "2022-11-27T09:21:17.472Z"
   },
   {
    "duration": 46,
    "start_time": "2022-11-27T09:21:17.499Z"
   },
   {
    "duration": 59,
    "start_time": "2022-11-27T09:21:17.548Z"
   },
   {
    "duration": 41,
    "start_time": "2022-11-27T09:21:17.608Z"
   },
   {
    "duration": 32,
    "start_time": "2022-11-27T09:21:17.651Z"
   },
   {
    "duration": 37,
    "start_time": "2022-11-27T09:21:17.686Z"
   },
   {
    "duration": 46,
    "start_time": "2022-11-27T09:21:17.726Z"
   },
   {
    "duration": 17,
    "start_time": "2022-11-27T09:21:17.774Z"
   },
   {
    "duration": 19,
    "start_time": "2022-11-27T09:21:19.504Z"
   },
   {
    "duration": 6,
    "start_time": "2022-11-27T09:21:53.990Z"
   },
   {
    "duration": 48,
    "start_time": "2022-11-27T09:23:04.556Z"
   },
   {
    "duration": 11,
    "start_time": "2022-11-27T09:23:04.606Z"
   },
   {
    "duration": 12,
    "start_time": "2022-11-27T09:23:04.619Z"
   },
   {
    "duration": 15,
    "start_time": "2022-11-27T09:23:04.632Z"
   },
   {
    "duration": 8,
    "start_time": "2022-11-27T09:23:04.649Z"
   },
   {
    "duration": 19,
    "start_time": "2022-11-27T09:23:04.658Z"
   },
   {
    "duration": 28,
    "start_time": "2022-11-27T09:23:04.679Z"
   },
   {
    "duration": 13,
    "start_time": "2022-11-27T09:23:04.708Z"
   },
   {
    "duration": 20,
    "start_time": "2022-11-27T09:23:04.723Z"
   },
   {
    "duration": 14,
    "start_time": "2022-11-27T09:23:04.745Z"
   },
   {
    "duration": 41,
    "start_time": "2022-11-27T09:23:04.761Z"
   },
   {
    "duration": 14,
    "start_time": "2022-11-27T09:23:04.805Z"
   },
   {
    "duration": 33,
    "start_time": "2022-11-27T09:23:06.413Z"
   },
   {
    "duration": 20,
    "start_time": "2022-11-27T09:23:13.193Z"
   },
   {
    "duration": 61,
    "start_time": "2022-11-27T09:23:17.934Z"
   },
   {
    "duration": 18,
    "start_time": "2022-11-27T09:23:17.998Z"
   },
   {
    "duration": 13,
    "start_time": "2022-11-27T09:23:18.018Z"
   },
   {
    "duration": 26,
    "start_time": "2022-11-27T09:23:18.034Z"
   },
   {
    "duration": 5,
    "start_time": "2022-11-27T09:23:18.062Z"
   },
   {
    "duration": 19,
    "start_time": "2022-11-27T09:23:18.068Z"
   },
   {
    "duration": 29,
    "start_time": "2022-11-27T09:23:18.090Z"
   },
   {
    "duration": 27,
    "start_time": "2022-11-27T09:23:18.121Z"
   },
   {
    "duration": 11,
    "start_time": "2022-11-27T09:23:18.150Z"
   },
   {
    "duration": 17,
    "start_time": "2022-11-27T09:23:18.164Z"
   },
   {
    "duration": 26,
    "start_time": "2022-11-27T09:23:18.183Z"
   },
   {
    "duration": 15,
    "start_time": "2022-11-27T09:23:18.212Z"
   },
   {
    "duration": 28,
    "start_time": "2022-11-27T09:23:20.078Z"
   },
   {
    "duration": 5,
    "start_time": "2022-11-27T09:23:23.829Z"
   },
   {
    "duration": 55,
    "start_time": "2022-11-27T09:27:49.473Z"
   },
   {
    "duration": 11,
    "start_time": "2022-11-27T09:27:49.530Z"
   },
   {
    "duration": 12,
    "start_time": "2022-11-27T09:27:49.542Z"
   },
   {
    "duration": 15,
    "start_time": "2022-11-27T09:27:49.556Z"
   },
   {
    "duration": 4,
    "start_time": "2022-11-27T09:27:49.574Z"
   },
   {
    "duration": 17,
    "start_time": "2022-11-27T09:27:49.579Z"
   },
   {
    "duration": 43,
    "start_time": "2022-11-27T09:27:49.598Z"
   },
   {
    "duration": 11,
    "start_time": "2022-11-27T09:27:49.643Z"
   },
   {
    "duration": 4,
    "start_time": "2022-11-27T09:27:49.656Z"
   },
   {
    "duration": 6,
    "start_time": "2022-11-27T09:27:49.661Z"
   },
   {
    "duration": 13,
    "start_time": "2022-11-27T09:27:49.669Z"
   },
   {
    "duration": 8,
    "start_time": "2022-11-27T09:27:49.684Z"
   },
   {
    "duration": 14,
    "start_time": "2022-11-27T09:27:52.904Z"
   },
   {
    "duration": 15,
    "start_time": "2022-11-27T09:28:36.812Z"
   },
   {
    "duration": 48,
    "start_time": "2022-11-27T09:28:46.083Z"
   },
   {
    "duration": 14,
    "start_time": "2022-11-27T09:28:46.133Z"
   },
   {
    "duration": 18,
    "start_time": "2022-11-27T09:28:46.150Z"
   },
   {
    "duration": 16,
    "start_time": "2022-11-27T09:28:46.169Z"
   },
   {
    "duration": 4,
    "start_time": "2022-11-27T09:28:46.187Z"
   },
   {
    "duration": 26,
    "start_time": "2022-11-27T09:28:46.192Z"
   },
   {
    "duration": 35,
    "start_time": "2022-11-27T09:28:46.221Z"
   },
   {
    "duration": 15,
    "start_time": "2022-11-27T09:28:46.258Z"
   },
   {
    "duration": 6,
    "start_time": "2022-11-27T09:28:46.275Z"
   },
   {
    "duration": 9,
    "start_time": "2022-11-27T09:28:46.283Z"
   },
   {
    "duration": 45,
    "start_time": "2022-11-27T09:28:46.293Z"
   },
   {
    "duration": 26,
    "start_time": "2022-11-27T09:28:46.340Z"
   },
   {
    "duration": 15,
    "start_time": "2022-11-27T09:28:48.104Z"
   },
   {
    "duration": 15,
    "start_time": "2022-11-27T09:29:04.218Z"
   },
   {
    "duration": 787,
    "start_time": "2022-11-27T09:29:25.983Z"
   },
   {
    "duration": 50,
    "start_time": "2022-11-27T09:29:40.142Z"
   },
   {
    "duration": 11,
    "start_time": "2022-11-27T09:29:40.194Z"
   },
   {
    "duration": 12,
    "start_time": "2022-11-27T09:29:40.207Z"
   },
   {
    "duration": 17,
    "start_time": "2022-11-27T09:29:40.222Z"
   },
   {
    "duration": 6,
    "start_time": "2022-11-27T09:29:40.241Z"
   },
   {
    "duration": 34,
    "start_time": "2022-11-27T09:29:40.249Z"
   },
   {
    "duration": 23,
    "start_time": "2022-11-27T09:29:40.285Z"
   },
   {
    "duration": 14,
    "start_time": "2022-11-27T09:29:40.310Z"
   },
   {
    "duration": 26,
    "start_time": "2022-11-27T09:29:40.325Z"
   },
   {
    "duration": 17,
    "start_time": "2022-11-27T09:29:40.355Z"
   },
   {
    "duration": 25,
    "start_time": "2022-11-27T09:29:40.374Z"
   },
   {
    "duration": 21,
    "start_time": "2022-11-27T09:29:40.401Z"
   },
   {
    "duration": 752,
    "start_time": "2022-11-27T09:29:42.384Z"
   },
   {
    "duration": 725,
    "start_time": "2022-11-27T09:30:17.559Z"
   },
   {
    "duration": 19,
    "start_time": "2022-11-27T09:30:28.580Z"
   },
   {
    "duration": 16,
    "start_time": "2022-11-27T09:31:44.116Z"
   },
   {
    "duration": 50,
    "start_time": "2022-11-27T09:31:47.414Z"
   },
   {
    "duration": 11,
    "start_time": "2022-11-27T09:31:47.466Z"
   },
   {
    "duration": 13,
    "start_time": "2022-11-27T09:31:47.479Z"
   },
   {
    "duration": 17,
    "start_time": "2022-11-27T09:31:47.494Z"
   },
   {
    "duration": 28,
    "start_time": "2022-11-27T09:31:47.513Z"
   },
   {
    "duration": 14,
    "start_time": "2022-11-27T09:31:47.542Z"
   },
   {
    "duration": 20,
    "start_time": "2022-11-27T09:31:47.558Z"
   },
   {
    "duration": 13,
    "start_time": "2022-11-27T09:31:47.580Z"
   },
   {
    "duration": 5,
    "start_time": "2022-11-27T09:31:47.595Z"
   },
   {
    "duration": 11,
    "start_time": "2022-11-27T09:31:47.601Z"
   },
   {
    "duration": 32,
    "start_time": "2022-11-27T09:31:47.614Z"
   },
   {
    "duration": 5,
    "start_time": "2022-11-27T09:31:47.649Z"
   },
   {
    "duration": 20,
    "start_time": "2022-11-27T09:31:49.179Z"
   },
   {
    "duration": 14,
    "start_time": "2022-11-27T09:32:08.465Z"
   },
   {
    "duration": 47,
    "start_time": "2022-11-27T09:32:11.281Z"
   },
   {
    "duration": 10,
    "start_time": "2022-11-27T09:32:11.331Z"
   },
   {
    "duration": 13,
    "start_time": "2022-11-27T09:32:11.343Z"
   },
   {
    "duration": 24,
    "start_time": "2022-11-27T09:32:11.358Z"
   },
   {
    "duration": 4,
    "start_time": "2022-11-27T09:32:11.384Z"
   },
   {
    "duration": 14,
    "start_time": "2022-11-27T09:32:11.389Z"
   },
   {
    "duration": 30,
    "start_time": "2022-11-27T09:32:11.405Z"
   },
   {
    "duration": 13,
    "start_time": "2022-11-27T09:32:11.437Z"
   },
   {
    "duration": 7,
    "start_time": "2022-11-27T09:32:11.451Z"
   },
   {
    "duration": 6,
    "start_time": "2022-11-27T09:32:11.460Z"
   },
   {
    "duration": 12,
    "start_time": "2022-11-27T09:32:11.467Z"
   },
   {
    "duration": 10,
    "start_time": "2022-11-27T09:32:11.481Z"
   },
   {
    "duration": 54,
    "start_time": "2022-11-27T09:32:11.492Z"
   },
   {
    "duration": 30,
    "start_time": "2022-11-27T09:32:12.956Z"
   },
   {
    "duration": 4,
    "start_time": "2022-11-27T09:32:24.719Z"
   },
   {
    "duration": 51,
    "start_time": "2022-11-27T09:33:07.083Z"
   },
   {
    "duration": 11,
    "start_time": "2022-11-27T09:33:07.136Z"
   },
   {
    "duration": 15,
    "start_time": "2022-11-27T09:33:07.148Z"
   },
   {
    "duration": 47,
    "start_time": "2022-11-27T09:33:07.165Z"
   },
   {
    "duration": 10,
    "start_time": "2022-11-27T09:33:07.214Z"
   },
   {
    "duration": 15,
    "start_time": "2022-11-27T09:33:07.226Z"
   },
   {
    "duration": 29,
    "start_time": "2022-11-27T09:33:07.243Z"
   },
   {
    "duration": 14,
    "start_time": "2022-11-27T09:33:07.273Z"
   },
   {
    "duration": 11,
    "start_time": "2022-11-27T09:33:07.289Z"
   },
   {
    "duration": 24,
    "start_time": "2022-11-27T09:33:07.301Z"
   },
   {
    "duration": 32,
    "start_time": "2022-11-27T09:33:07.326Z"
   },
   {
    "duration": 16,
    "start_time": "2022-11-27T09:33:07.359Z"
   },
   {
    "duration": 28,
    "start_time": "2022-11-27T09:33:09.502Z"
   },
   {
    "duration": 49,
    "start_time": "2022-11-27T09:33:26.579Z"
   },
   {
    "duration": 11,
    "start_time": "2022-11-27T09:33:26.630Z"
   },
   {
    "duration": 21,
    "start_time": "2022-11-27T09:33:26.643Z"
   },
   {
    "duration": 31,
    "start_time": "2022-11-27T09:33:26.665Z"
   },
   {
    "duration": 5,
    "start_time": "2022-11-27T09:33:26.698Z"
   },
   {
    "duration": 17,
    "start_time": "2022-11-27T09:33:26.705Z"
   },
   {
    "duration": 34,
    "start_time": "2022-11-27T09:33:26.724Z"
   },
   {
    "duration": 13,
    "start_time": "2022-11-27T09:33:26.760Z"
   },
   {
    "duration": 17,
    "start_time": "2022-11-27T09:33:26.774Z"
   },
   {
    "duration": 14,
    "start_time": "2022-11-27T09:33:26.792Z"
   },
   {
    "duration": 16,
    "start_time": "2022-11-27T09:33:26.808Z"
   },
   {
    "duration": 19,
    "start_time": "2022-11-27T09:33:26.826Z"
   },
   {
    "duration": 25,
    "start_time": "2022-11-27T09:33:28.735Z"
   },
   {
    "duration": 49,
    "start_time": "2022-11-27T09:41:13.810Z"
   },
   {
    "duration": 11,
    "start_time": "2022-11-27T09:41:13.861Z"
   },
   {
    "duration": 17,
    "start_time": "2022-11-27T09:41:13.874Z"
   },
   {
    "duration": 22,
    "start_time": "2022-11-27T09:41:13.893Z"
   },
   {
    "duration": 4,
    "start_time": "2022-11-27T09:41:13.917Z"
   },
   {
    "duration": 13,
    "start_time": "2022-11-27T09:41:13.936Z"
   },
   {
    "duration": 24,
    "start_time": "2022-11-27T09:41:13.951Z"
   },
   {
    "duration": 15,
    "start_time": "2022-11-27T09:41:13.977Z"
   },
   {
    "duration": 24,
    "start_time": "2022-11-27T09:41:13.994Z"
   },
   {
    "duration": 12,
    "start_time": "2022-11-27T09:41:14.019Z"
   },
   {
    "duration": 26,
    "start_time": "2022-11-27T09:41:14.033Z"
   },
   {
    "duration": 9,
    "start_time": "2022-11-27T09:41:14.060Z"
   },
   {
    "duration": 19,
    "start_time": "2022-11-27T09:41:16.076Z"
   },
   {
    "duration": 49,
    "start_time": "2022-11-27T09:42:29.682Z"
   },
   {
    "duration": 11,
    "start_time": "2022-11-27T09:42:29.733Z"
   },
   {
    "duration": 33,
    "start_time": "2022-11-27T09:42:29.746Z"
   },
   {
    "duration": 28,
    "start_time": "2022-11-27T09:42:29.781Z"
   },
   {
    "duration": 5,
    "start_time": "2022-11-27T09:42:29.812Z"
   },
   {
    "duration": 21,
    "start_time": "2022-11-27T09:42:29.818Z"
   },
   {
    "duration": 28,
    "start_time": "2022-11-27T09:42:29.841Z"
   },
   {
    "duration": 14,
    "start_time": "2022-11-27T09:42:29.870Z"
   },
   {
    "duration": 17,
    "start_time": "2022-11-27T09:42:29.885Z"
   },
   {
    "duration": 8,
    "start_time": "2022-11-27T09:42:29.903Z"
   },
   {
    "duration": 16,
    "start_time": "2022-11-27T09:42:29.913Z"
   },
   {
    "duration": 25,
    "start_time": "2022-11-27T09:42:29.930Z"
   },
   {
    "duration": 18,
    "start_time": "2022-11-27T09:42:31.687Z"
   },
   {
    "duration": 20,
    "start_time": "2022-11-27T09:42:51.362Z"
   },
   {
    "duration": 14,
    "start_time": "2022-11-27T09:43:10.174Z"
   },
   {
    "duration": 14,
    "start_time": "2022-11-27T09:43:25.171Z"
   },
   {
    "duration": 14,
    "start_time": "2022-11-27T09:43:32.362Z"
   },
   {
    "duration": 14,
    "start_time": "2022-11-27T09:44:21.533Z"
   },
   {
    "duration": 14,
    "start_time": "2022-11-27T09:44:34.056Z"
   },
   {
    "duration": 4,
    "start_time": "2022-11-27T09:45:04.192Z"
   },
   {
    "duration": 17,
    "start_time": "2022-11-27T09:45:09.077Z"
   },
   {
    "duration": 24,
    "start_time": "2022-11-27T09:45:30.426Z"
   },
   {
    "duration": 49,
    "start_time": "2022-11-27T09:45:33.480Z"
   },
   {
    "duration": 11,
    "start_time": "2022-11-27T09:45:33.532Z"
   },
   {
    "duration": 12,
    "start_time": "2022-11-27T09:45:33.545Z"
   },
   {
    "duration": 19,
    "start_time": "2022-11-27T09:45:33.559Z"
   },
   {
    "duration": 5,
    "start_time": "2022-11-27T09:45:33.581Z"
   },
   {
    "duration": 14,
    "start_time": "2022-11-27T09:45:33.588Z"
   },
   {
    "duration": 43,
    "start_time": "2022-11-27T09:45:33.604Z"
   },
   {
    "duration": 12,
    "start_time": "2022-11-27T09:45:33.649Z"
   },
   {
    "duration": 19,
    "start_time": "2022-11-27T09:45:33.662Z"
   },
   {
    "duration": 17,
    "start_time": "2022-11-27T09:45:33.683Z"
   },
   {
    "duration": 17,
    "start_time": "2022-11-27T09:45:33.701Z"
   },
   {
    "duration": 16,
    "start_time": "2022-11-27T09:45:33.719Z"
   },
   {
    "duration": 21,
    "start_time": "2022-11-27T09:45:35.271Z"
   },
   {
    "duration": 49,
    "start_time": "2022-11-27T09:48:00.942Z"
   },
   {
    "duration": 11,
    "start_time": "2022-11-27T09:48:00.992Z"
   },
   {
    "duration": 41,
    "start_time": "2022-11-27T09:48:01.005Z"
   },
   {
    "duration": 58,
    "start_time": "2022-11-27T09:48:01.048Z"
   },
   {
    "duration": 13,
    "start_time": "2022-11-27T09:48:01.108Z"
   },
   {
    "duration": 22,
    "start_time": "2022-11-27T09:48:01.122Z"
   },
   {
    "duration": 21,
    "start_time": "2022-11-27T09:48:01.146Z"
   },
   {
    "duration": 12,
    "start_time": "2022-11-27T09:48:01.168Z"
   },
   {
    "duration": 28,
    "start_time": "2022-11-27T09:48:01.182Z"
   },
   {
    "duration": 22,
    "start_time": "2022-11-27T09:48:01.212Z"
   },
   {
    "duration": 39,
    "start_time": "2022-11-27T09:48:01.236Z"
   },
   {
    "duration": 33,
    "start_time": "2022-11-27T09:48:01.277Z"
   },
   {
    "duration": 21,
    "start_time": "2022-11-27T09:48:03.118Z"
   },
   {
    "duration": 47,
    "start_time": "2022-11-27T10:13:45.564Z"
   },
   {
    "duration": 11,
    "start_time": "2022-11-27T10:13:45.614Z"
   },
   {
    "duration": 16,
    "start_time": "2022-11-27T10:13:45.626Z"
   },
   {
    "duration": 17,
    "start_time": "2022-11-27T10:13:45.644Z"
   },
   {
    "duration": 5,
    "start_time": "2022-11-27T10:13:45.662Z"
   },
   {
    "duration": 15,
    "start_time": "2022-11-27T10:13:45.668Z"
   },
   {
    "duration": 24,
    "start_time": "2022-11-27T10:13:45.685Z"
   },
   {
    "duration": 28,
    "start_time": "2022-11-27T10:13:45.711Z"
   },
   {
    "duration": 5,
    "start_time": "2022-11-27T10:13:45.740Z"
   },
   {
    "duration": 11,
    "start_time": "2022-11-27T10:13:45.747Z"
   },
   {
    "duration": 16,
    "start_time": "2022-11-27T10:13:45.759Z"
   },
   {
    "duration": 16,
    "start_time": "2022-11-27T10:13:45.777Z"
   },
   {
    "duration": 13,
    "start_time": "2022-11-27T10:13:47.573Z"
   },
   {
    "duration": 14,
    "start_time": "2022-11-27T10:14:16.688Z"
   },
   {
    "duration": 13,
    "start_time": "2022-11-27T10:14:24.729Z"
   },
   {
    "duration": 14,
    "start_time": "2022-11-27T10:14:40.989Z"
   },
   {
    "duration": 50,
    "start_time": "2022-11-27T10:14:50.297Z"
   },
   {
    "duration": 11,
    "start_time": "2022-11-27T10:14:50.349Z"
   },
   {
    "duration": 12,
    "start_time": "2022-11-27T10:14:50.362Z"
   },
   {
    "duration": 26,
    "start_time": "2022-11-27T10:14:50.375Z"
   },
   {
    "duration": 4,
    "start_time": "2022-11-27T10:14:50.404Z"
   },
   {
    "duration": 27,
    "start_time": "2022-11-27T10:14:50.409Z"
   },
   {
    "duration": 27,
    "start_time": "2022-11-27T10:14:50.437Z"
   },
   {
    "duration": 13,
    "start_time": "2022-11-27T10:14:50.466Z"
   },
   {
    "duration": 23,
    "start_time": "2022-11-27T10:14:50.480Z"
   },
   {
    "duration": 17,
    "start_time": "2022-11-27T10:14:50.505Z"
   },
   {
    "duration": 27,
    "start_time": "2022-11-27T10:14:50.524Z"
   },
   {
    "duration": 17,
    "start_time": "2022-11-27T10:14:50.552Z"
   },
   {
    "duration": 16,
    "start_time": "2022-11-27T10:14:52.448Z"
   },
   {
    "duration": 48,
    "start_time": "2022-11-27T10:16:01.472Z"
   },
   {
    "duration": 10,
    "start_time": "2022-11-27T10:16:01.522Z"
   },
   {
    "duration": 13,
    "start_time": "2022-11-27T10:16:01.534Z"
   },
   {
    "duration": 18,
    "start_time": "2022-11-27T10:16:01.549Z"
   },
   {
    "duration": 4,
    "start_time": "2022-11-27T10:16:01.569Z"
   },
   {
    "duration": 16,
    "start_time": "2022-11-27T10:16:01.575Z"
   },
   {
    "duration": 26,
    "start_time": "2022-11-27T10:16:01.593Z"
   },
   {
    "duration": 21,
    "start_time": "2022-11-27T10:16:01.621Z"
   },
   {
    "duration": 9,
    "start_time": "2022-11-27T10:16:01.644Z"
   },
   {
    "duration": 11,
    "start_time": "2022-11-27T10:16:01.654Z"
   },
   {
    "duration": 29,
    "start_time": "2022-11-27T10:16:01.666Z"
   },
   {
    "duration": 18,
    "start_time": "2022-11-27T10:16:01.696Z"
   },
   {
    "duration": 16,
    "start_time": "2022-11-27T10:16:03.246Z"
   },
   {
    "duration": 20,
    "start_time": "2022-11-27T10:16:09.924Z"
   },
   {
    "duration": 56,
    "start_time": "2022-11-27T11:06:23.802Z"
   },
   {
    "duration": 10,
    "start_time": "2022-11-27T11:06:23.859Z"
   },
   {
    "duration": 13,
    "start_time": "2022-11-27T11:06:23.870Z"
   },
   {
    "duration": 22,
    "start_time": "2022-11-27T11:06:23.884Z"
   },
   {
    "duration": 5,
    "start_time": "2022-11-27T11:06:23.908Z"
   },
   {
    "duration": 35,
    "start_time": "2022-11-27T11:06:23.914Z"
   },
   {
    "duration": 21,
    "start_time": "2022-11-27T11:06:23.951Z"
   },
   {
    "duration": 14,
    "start_time": "2022-11-27T11:06:23.974Z"
   },
   {
    "duration": 27,
    "start_time": "2022-11-27T11:06:23.989Z"
   },
   {
    "duration": 14,
    "start_time": "2022-11-27T11:06:24.017Z"
   },
   {
    "duration": 36,
    "start_time": "2022-11-27T11:06:24.035Z"
   },
   {
    "duration": 11,
    "start_time": "2022-11-27T11:06:24.073Z"
   },
   {
    "duration": 11,
    "start_time": "2022-11-27T11:06:26.983Z"
   },
   {
    "duration": 23,
    "start_time": "2022-11-27T11:06:38.052Z"
   },
   {
    "duration": 54,
    "start_time": "2022-11-27T11:06:50.598Z"
   },
   {
    "duration": 12,
    "start_time": "2022-11-27T11:06:50.654Z"
   },
   {
    "duration": 13,
    "start_time": "2022-11-27T11:06:50.667Z"
   },
   {
    "duration": 18,
    "start_time": "2022-11-27T11:06:50.682Z"
   },
   {
    "duration": 5,
    "start_time": "2022-11-27T11:06:50.702Z"
   },
   {
    "duration": 60,
    "start_time": "2022-11-27T11:06:50.708Z"
   },
   {
    "duration": 19,
    "start_time": "2022-11-27T11:06:50.770Z"
   },
   {
    "duration": 20,
    "start_time": "2022-11-27T11:06:50.791Z"
   },
   {
    "duration": 7,
    "start_time": "2022-11-27T11:06:50.812Z"
   },
   {
    "duration": 36,
    "start_time": "2022-11-27T11:06:50.821Z"
   },
   {
    "duration": 16,
    "start_time": "2022-11-27T11:06:50.858Z"
   },
   {
    "duration": 17,
    "start_time": "2022-11-27T11:06:50.876Z"
   },
   {
    "duration": 33,
    "start_time": "2022-11-27T11:06:52.622Z"
   },
   {
    "duration": 15,
    "start_time": "2022-11-27T11:09:43.622Z"
   },
   {
    "duration": 15,
    "start_time": "2022-11-27T11:10:05.346Z"
   },
   {
    "duration": 50,
    "start_time": "2022-11-27T11:10:15.973Z"
   },
   {
    "duration": 12,
    "start_time": "2022-11-27T11:10:16.025Z"
   },
   {
    "duration": 20,
    "start_time": "2022-11-27T11:10:16.039Z"
   },
   {
    "duration": 15,
    "start_time": "2022-11-27T11:10:16.060Z"
   },
   {
    "duration": 9,
    "start_time": "2022-11-27T11:10:16.078Z"
   },
   {
    "duration": 24,
    "start_time": "2022-11-27T11:10:16.088Z"
   },
   {
    "duration": 30,
    "start_time": "2022-11-27T11:10:16.113Z"
   },
   {
    "duration": 12,
    "start_time": "2022-11-27T11:10:16.145Z"
   },
   {
    "duration": 20,
    "start_time": "2022-11-27T11:10:16.159Z"
   },
   {
    "duration": 14,
    "start_time": "2022-11-27T11:10:16.181Z"
   },
   {
    "duration": 20,
    "start_time": "2022-11-27T11:10:16.197Z"
   },
   {
    "duration": 12,
    "start_time": "2022-11-27T11:10:16.218Z"
   },
   {
    "duration": 129,
    "start_time": "2022-11-27T11:10:17.999Z"
   },
   {
    "duration": 48,
    "start_time": "2022-11-27T11:10:44.834Z"
   },
   {
    "duration": 12,
    "start_time": "2022-11-27T11:10:44.884Z"
   },
   {
    "duration": 28,
    "start_time": "2022-11-27T11:10:44.898Z"
   },
   {
    "duration": 26,
    "start_time": "2022-11-27T11:10:44.928Z"
   },
   {
    "duration": 20,
    "start_time": "2022-11-27T11:10:44.957Z"
   },
   {
    "duration": 20,
    "start_time": "2022-11-27T11:10:44.979Z"
   },
   {
    "duration": 37,
    "start_time": "2022-11-27T11:10:45.001Z"
   },
   {
    "duration": 30,
    "start_time": "2022-11-27T11:10:45.040Z"
   },
   {
    "duration": 27,
    "start_time": "2022-11-27T11:10:45.072Z"
   },
   {
    "duration": 10,
    "start_time": "2022-11-27T11:10:45.101Z"
   },
   {
    "duration": 35,
    "start_time": "2022-11-27T11:10:45.113Z"
   },
   {
    "duration": 26,
    "start_time": "2022-11-27T11:10:45.150Z"
   },
   {
    "duration": 850,
    "start_time": "2022-11-27T11:10:46.811Z"
   },
   {
    "duration": 49,
    "start_time": "2022-11-27T11:11:19.757Z"
   },
   {
    "duration": 11,
    "start_time": "2022-11-27T11:11:19.809Z"
   },
   {
    "duration": 15,
    "start_time": "2022-11-27T11:11:19.822Z"
   },
   {
    "duration": 22,
    "start_time": "2022-11-27T11:11:19.839Z"
   },
   {
    "duration": 16,
    "start_time": "2022-11-27T11:11:19.863Z"
   },
   {
    "duration": 24,
    "start_time": "2022-11-27T11:11:19.881Z"
   },
   {
    "duration": 29,
    "start_time": "2022-11-27T11:11:19.907Z"
   },
   {
    "duration": 13,
    "start_time": "2022-11-27T11:11:19.938Z"
   },
   {
    "duration": 17,
    "start_time": "2022-11-27T11:11:19.952Z"
   },
   {
    "duration": 10,
    "start_time": "2022-11-27T11:11:19.971Z"
   },
   {
    "duration": 17,
    "start_time": "2022-11-27T11:11:19.982Z"
   },
   {
    "duration": 19,
    "start_time": "2022-11-27T11:11:20.001Z"
   },
   {
    "duration": 451,
    "start_time": "2022-11-27T11:11:21.537Z"
   },
   {
    "duration": 50,
    "start_time": "2022-11-27T11:11:31.610Z"
   },
   {
    "duration": 12,
    "start_time": "2022-11-27T11:11:31.663Z"
   },
   {
    "duration": 14,
    "start_time": "2022-11-27T11:11:31.677Z"
   },
   {
    "duration": 16,
    "start_time": "2022-11-27T11:11:31.693Z"
   },
   {
    "duration": 6,
    "start_time": "2022-11-27T11:11:31.735Z"
   },
   {
    "duration": 15,
    "start_time": "2022-11-27T11:11:31.742Z"
   },
   {
    "duration": 16,
    "start_time": "2022-11-27T11:11:31.759Z"
   },
   {
    "duration": 15,
    "start_time": "2022-11-27T11:11:31.777Z"
   },
   {
    "duration": 10,
    "start_time": "2022-11-27T11:11:31.794Z"
   },
   {
    "duration": 6,
    "start_time": "2022-11-27T11:11:31.836Z"
   },
   {
    "duration": 15,
    "start_time": "2022-11-27T11:11:31.844Z"
   },
   {
    "duration": 7,
    "start_time": "2022-11-27T11:11:31.861Z"
   },
   {
    "duration": 17,
    "start_time": "2022-11-27T11:11:33.247Z"
   },
   {
    "duration": 49,
    "start_time": "2022-11-27T11:12:14.746Z"
   },
   {
    "duration": 11,
    "start_time": "2022-11-27T11:12:14.797Z"
   },
   {
    "duration": 16,
    "start_time": "2022-11-27T11:12:14.809Z"
   },
   {
    "duration": 24,
    "start_time": "2022-11-27T11:12:14.827Z"
   },
   {
    "duration": 4,
    "start_time": "2022-11-27T11:12:14.853Z"
   },
   {
    "duration": 14,
    "start_time": "2022-11-27T11:12:14.858Z"
   },
   {
    "duration": 19,
    "start_time": "2022-11-27T11:12:14.874Z"
   },
   {
    "duration": 13,
    "start_time": "2022-11-27T11:12:14.894Z"
   },
   {
    "duration": 13,
    "start_time": "2022-11-27T11:12:14.909Z"
   },
   {
    "duration": 12,
    "start_time": "2022-11-27T11:12:14.924Z"
   },
   {
    "duration": 19,
    "start_time": "2022-11-27T11:12:14.938Z"
   },
   {
    "duration": 15,
    "start_time": "2022-11-27T11:12:14.959Z"
   },
   {
    "duration": 776,
    "start_time": "2022-11-27T11:12:16.895Z"
   },
   {
    "duration": 769,
    "start_time": "2022-11-27T12:21:11.996Z"
   },
   {
    "duration": 16,
    "start_time": "2022-11-27T12:21:38.967Z"
   },
   {
    "duration": 14,
    "start_time": "2022-11-27T12:21:48.887Z"
   },
   {
    "duration": 13,
    "start_time": "2022-11-27T12:22:25.296Z"
   },
   {
    "duration": 14,
    "start_time": "2022-11-27T12:22:52.368Z"
   },
   {
    "duration": 19,
    "start_time": "2022-11-27T12:23:19.897Z"
   },
   {
    "duration": 47,
    "start_time": "2022-11-27T12:23:24.728Z"
   },
   {
    "duration": 11,
    "start_time": "2022-11-27T12:23:24.777Z"
   },
   {
    "duration": 11,
    "start_time": "2022-11-27T12:23:24.790Z"
   },
   {
    "duration": 12,
    "start_time": "2022-11-27T12:23:24.803Z"
   },
   {
    "duration": 5,
    "start_time": "2022-11-27T12:23:24.817Z"
   },
   {
    "duration": 13,
    "start_time": "2022-11-27T12:23:24.835Z"
   },
   {
    "duration": 15,
    "start_time": "2022-11-27T12:23:24.850Z"
   },
   {
    "duration": 12,
    "start_time": "2022-11-27T12:23:24.867Z"
   },
   {
    "duration": 5,
    "start_time": "2022-11-27T12:23:24.881Z"
   },
   {
    "duration": 7,
    "start_time": "2022-11-27T12:23:24.887Z"
   },
   {
    "duration": 45,
    "start_time": "2022-11-27T12:23:24.895Z"
   },
   {
    "duration": 9,
    "start_time": "2022-11-27T12:23:24.943Z"
   },
   {
    "duration": 19,
    "start_time": "2022-11-27T12:23:24.954Z"
   },
   {
    "duration": 18,
    "start_time": "2022-11-27T12:23:26.576Z"
   },
   {
    "duration": 15,
    "start_time": "2022-11-27T12:23:31.487Z"
   },
   {
    "duration": 26,
    "start_time": "2022-11-27T12:23:43.323Z"
   },
   {
    "duration": 45,
    "start_time": "2022-11-27T12:24:24.812Z"
   },
   {
    "duration": 10,
    "start_time": "2022-11-27T12:24:24.859Z"
   },
   {
    "duration": 11,
    "start_time": "2022-11-27T12:24:24.870Z"
   },
   {
    "duration": 16,
    "start_time": "2022-11-27T12:24:24.882Z"
   },
   {
    "duration": 4,
    "start_time": "2022-11-27T12:24:24.900Z"
   },
   {
    "duration": 33,
    "start_time": "2022-11-27T12:24:24.905Z"
   },
   {
    "duration": 16,
    "start_time": "2022-11-27T12:24:24.940Z"
   },
   {
    "duration": 12,
    "start_time": "2022-11-27T12:24:24.957Z"
   },
   {
    "duration": 5,
    "start_time": "2022-11-27T12:24:24.970Z"
   },
   {
    "duration": 6,
    "start_time": "2022-11-27T12:24:24.976Z"
   },
   {
    "duration": 12,
    "start_time": "2022-11-27T12:24:24.984Z"
   },
   {
    "duration": 7,
    "start_time": "2022-11-27T12:24:24.997Z"
   },
   {
    "duration": 27,
    "start_time": "2022-11-27T12:24:26.706Z"
   },
   {
    "duration": 50,
    "start_time": "2022-11-27T12:25:07.743Z"
   },
   {
    "duration": 10,
    "start_time": "2022-11-27T12:25:07.795Z"
   },
   {
    "duration": 14,
    "start_time": "2022-11-27T12:25:07.807Z"
   },
   {
    "duration": 17,
    "start_time": "2022-11-27T12:25:07.822Z"
   },
   {
    "duration": 4,
    "start_time": "2022-11-27T12:25:07.841Z"
   },
   {
    "duration": 18,
    "start_time": "2022-11-27T12:25:07.847Z"
   },
   {
    "duration": 21,
    "start_time": "2022-11-27T12:25:07.866Z"
   },
   {
    "duration": 11,
    "start_time": "2022-11-27T12:25:07.889Z"
   },
   {
    "duration": 11,
    "start_time": "2022-11-27T12:25:07.902Z"
   },
   {
    "duration": 22,
    "start_time": "2022-11-27T12:25:07.914Z"
   },
   {
    "duration": 21,
    "start_time": "2022-11-27T12:25:07.938Z"
   },
   {
    "duration": 11,
    "start_time": "2022-11-27T12:25:07.961Z"
   },
   {
    "duration": 15,
    "start_time": "2022-11-27T12:25:09.662Z"
   },
   {
    "duration": 20,
    "start_time": "2022-11-27T12:25:20.572Z"
   },
   {
    "duration": 49,
    "start_time": "2022-11-27T12:25:46.299Z"
   },
   {
    "duration": 11,
    "start_time": "2022-11-27T12:25:46.349Z"
   },
   {
    "duration": 13,
    "start_time": "2022-11-27T12:25:46.362Z"
   },
   {
    "duration": 42,
    "start_time": "2022-11-27T12:25:46.376Z"
   },
   {
    "duration": 9,
    "start_time": "2022-11-27T12:25:46.421Z"
   },
   {
    "duration": 25,
    "start_time": "2022-11-27T12:25:46.432Z"
   },
   {
    "duration": 27,
    "start_time": "2022-11-27T12:25:46.459Z"
   },
   {
    "duration": 13,
    "start_time": "2022-11-27T12:25:46.488Z"
   },
   {
    "duration": 6,
    "start_time": "2022-11-27T12:25:46.502Z"
   },
   {
    "duration": 13,
    "start_time": "2022-11-27T12:25:46.510Z"
   },
   {
    "duration": 20,
    "start_time": "2022-11-27T12:25:46.525Z"
   },
   {
    "duration": 11,
    "start_time": "2022-11-27T12:25:46.547Z"
   },
   {
    "duration": 14,
    "start_time": "2022-11-27T12:25:48.547Z"
   },
   {
    "duration": 729,
    "start_time": "2022-11-27T12:26:21.238Z"
   },
   {
    "duration": 47,
    "start_time": "2022-11-27T12:26:26.083Z"
   },
   {
    "duration": 10,
    "start_time": "2022-11-27T12:26:26.132Z"
   },
   {
    "duration": 17,
    "start_time": "2022-11-27T12:26:26.143Z"
   },
   {
    "duration": 15,
    "start_time": "2022-11-27T12:26:26.162Z"
   },
   {
    "duration": 16,
    "start_time": "2022-11-27T12:26:26.179Z"
   },
   {
    "duration": 14,
    "start_time": "2022-11-27T12:26:26.197Z"
   },
   {
    "duration": 17,
    "start_time": "2022-11-27T12:26:26.213Z"
   },
   {
    "duration": 12,
    "start_time": "2022-11-27T12:26:26.234Z"
   },
   {
    "duration": 8,
    "start_time": "2022-11-27T12:26:26.247Z"
   },
   {
    "duration": 5,
    "start_time": "2022-11-27T12:26:26.257Z"
   },
   {
    "duration": 22,
    "start_time": "2022-11-27T12:26:26.263Z"
   },
   {
    "duration": 8,
    "start_time": "2022-11-27T12:26:26.287Z"
   },
   {
    "duration": 706,
    "start_time": "2022-11-27T12:26:27.952Z"
   },
   {
    "duration": 13,
    "start_time": "2022-11-27T12:26:36.218Z"
   },
   {
    "duration": 47,
    "start_time": "2022-11-27T12:27:37.554Z"
   },
   {
    "duration": 11,
    "start_time": "2022-11-27T12:27:37.603Z"
   },
   {
    "duration": 12,
    "start_time": "2022-11-27T12:27:37.616Z"
   },
   {
    "duration": 16,
    "start_time": "2022-11-27T12:27:37.631Z"
   },
   {
    "duration": 5,
    "start_time": "2022-11-27T12:27:37.649Z"
   },
   {
    "duration": 16,
    "start_time": "2022-11-27T12:27:37.655Z"
   },
   {
    "duration": 16,
    "start_time": "2022-11-27T12:27:37.673Z"
   },
   {
    "duration": 12,
    "start_time": "2022-11-27T12:27:37.690Z"
   },
   {
    "duration": 4,
    "start_time": "2022-11-27T12:27:37.703Z"
   },
   {
    "duration": 6,
    "start_time": "2022-11-27T12:27:37.709Z"
   },
   {
    "duration": 11,
    "start_time": "2022-11-27T12:27:37.735Z"
   },
   {
    "duration": 7,
    "start_time": "2022-11-27T12:27:37.747Z"
   },
   {
    "duration": 20,
    "start_time": "2022-11-27T12:27:42.766Z"
   },
   {
    "duration": 50,
    "start_time": "2022-11-27T12:27:57.690Z"
   },
   {
    "duration": 13,
    "start_time": "2022-11-27T12:27:57.742Z"
   },
   {
    "duration": 26,
    "start_time": "2022-11-27T12:27:57.757Z"
   },
   {
    "duration": 32,
    "start_time": "2022-11-27T12:27:57.786Z"
   },
   {
    "duration": 5,
    "start_time": "2022-11-27T12:27:57.820Z"
   },
   {
    "duration": 25,
    "start_time": "2022-11-27T12:27:57.827Z"
   },
   {
    "duration": 31,
    "start_time": "2022-11-27T12:27:57.854Z"
   },
   {
    "duration": 15,
    "start_time": "2022-11-27T12:27:57.887Z"
   },
   {
    "duration": 15,
    "start_time": "2022-11-27T12:27:57.905Z"
   },
   {
    "duration": 17,
    "start_time": "2022-11-27T12:27:57.922Z"
   },
   {
    "duration": 26,
    "start_time": "2022-11-27T12:27:57.940Z"
   },
   {
    "duration": 22,
    "start_time": "2022-11-27T12:27:57.967Z"
   },
   {
    "duration": 21,
    "start_time": "2022-11-27T12:28:00.054Z"
   },
   {
    "duration": 12,
    "start_time": "2022-11-27T12:28:31.617Z"
   },
   {
    "duration": 48,
    "start_time": "2022-11-27T12:29:26.072Z"
   },
   {
    "duration": 10,
    "start_time": "2022-11-27T12:29:26.122Z"
   },
   {
    "duration": 14,
    "start_time": "2022-11-27T12:29:26.133Z"
   },
   {
    "duration": 33,
    "start_time": "2022-11-27T12:29:26.149Z"
   },
   {
    "duration": 5,
    "start_time": "2022-11-27T12:29:26.184Z"
   },
   {
    "duration": 30,
    "start_time": "2022-11-27T12:29:26.190Z"
   },
   {
    "duration": 31,
    "start_time": "2022-11-27T12:29:26.222Z"
   },
   {
    "duration": 12,
    "start_time": "2022-11-27T12:29:26.255Z"
   },
   {
    "duration": 9,
    "start_time": "2022-11-27T12:29:26.269Z"
   },
   {
    "duration": 7,
    "start_time": "2022-11-27T12:29:26.279Z"
   },
   {
    "duration": 12,
    "start_time": "2022-11-27T12:29:26.288Z"
   },
   {
    "duration": 10,
    "start_time": "2022-11-27T12:29:26.301Z"
   },
   {
    "duration": 31,
    "start_time": "2022-11-27T12:29:27.781Z"
   },
   {
    "duration": 48,
    "start_time": "2022-11-27T12:30:18.207Z"
   },
   {
    "duration": 11,
    "start_time": "2022-11-27T12:30:18.257Z"
   },
   {
    "duration": 13,
    "start_time": "2022-11-27T12:30:18.269Z"
   },
   {
    "duration": 18,
    "start_time": "2022-11-27T12:30:18.283Z"
   },
   {
    "duration": 4,
    "start_time": "2022-11-27T12:30:18.304Z"
   },
   {
    "duration": 39,
    "start_time": "2022-11-27T12:30:18.310Z"
   },
   {
    "duration": 20,
    "start_time": "2022-11-27T12:30:18.350Z"
   },
   {
    "duration": 12,
    "start_time": "2022-11-27T12:30:18.372Z"
   },
   {
    "duration": 8,
    "start_time": "2022-11-27T12:30:18.385Z"
   },
   {
    "duration": 15,
    "start_time": "2022-11-27T12:30:18.395Z"
   },
   {
    "duration": 26,
    "start_time": "2022-11-27T12:30:18.411Z"
   },
   {
    "duration": 9,
    "start_time": "2022-11-27T12:30:18.439Z"
   },
   {
    "duration": 15,
    "start_time": "2022-11-27T12:30:20.094Z"
   },
   {
    "duration": 54,
    "start_time": "2022-11-27T12:31:45.228Z"
   },
   {
    "duration": 12,
    "start_time": "2022-11-27T12:31:45.284Z"
   },
   {
    "duration": 16,
    "start_time": "2022-11-27T12:31:45.298Z"
   },
   {
    "duration": 16,
    "start_time": "2022-11-27T12:31:45.316Z"
   },
   {
    "duration": 4,
    "start_time": "2022-11-27T12:31:45.337Z"
   },
   {
    "duration": 14,
    "start_time": "2022-11-27T12:31:45.343Z"
   },
   {
    "duration": 22,
    "start_time": "2022-11-27T12:31:45.359Z"
   },
   {
    "duration": 14,
    "start_time": "2022-11-27T12:31:45.383Z"
   },
   {
    "duration": 5,
    "start_time": "2022-11-27T12:31:45.399Z"
   },
   {
    "duration": 5,
    "start_time": "2022-11-27T12:31:45.436Z"
   },
   {
    "duration": 11,
    "start_time": "2022-11-27T12:31:45.443Z"
   },
   {
    "duration": 6,
    "start_time": "2022-11-27T12:31:45.456Z"
   },
   {
    "duration": 19,
    "start_time": "2022-11-27T12:31:49.297Z"
   },
   {
    "duration": 5,
    "start_time": "2022-11-27T12:32:07.118Z"
   },
   {
    "duration": 52,
    "start_time": "2022-11-27T12:32:37.265Z"
   },
   {
    "duration": 11,
    "start_time": "2022-11-27T12:32:37.319Z"
   },
   {
    "duration": 12,
    "start_time": "2022-11-27T12:32:37.332Z"
   },
   {
    "duration": 25,
    "start_time": "2022-11-27T12:32:37.346Z"
   },
   {
    "duration": 4,
    "start_time": "2022-11-27T12:32:37.374Z"
   },
   {
    "duration": 16,
    "start_time": "2022-11-27T12:32:37.379Z"
   },
   {
    "duration": 20,
    "start_time": "2022-11-27T12:32:37.397Z"
   },
   {
    "duration": 25,
    "start_time": "2022-11-27T12:32:37.419Z"
   },
   {
    "duration": 4,
    "start_time": "2022-11-27T12:32:37.446Z"
   },
   {
    "duration": 9,
    "start_time": "2022-11-27T12:32:37.452Z"
   },
   {
    "duration": 22,
    "start_time": "2022-11-27T12:32:37.463Z"
   },
   {
    "duration": 11,
    "start_time": "2022-11-27T12:32:37.487Z"
   },
   {
    "duration": 17,
    "start_time": "2022-11-27T12:32:39.530Z"
   },
   {
    "duration": 24,
    "start_time": "2022-11-27T12:33:39.343Z"
   },
   {
    "duration": 5,
    "start_time": "2022-11-27T12:33:41.057Z"
   },
   {
    "duration": 11,
    "start_time": "2022-11-27T12:33:43.189Z"
   },
   {
    "duration": 13,
    "start_time": "2022-11-27T12:33:45.865Z"
   },
   {
    "duration": 47,
    "start_time": "2022-11-27T12:34:29.520Z"
   },
   {
    "duration": 11,
    "start_time": "2022-11-27T12:34:29.569Z"
   },
   {
    "duration": 18,
    "start_time": "2022-11-27T12:34:29.581Z"
   },
   {
    "duration": 29,
    "start_time": "2022-11-27T12:34:29.600Z"
   },
   {
    "duration": 5,
    "start_time": "2022-11-27T12:34:29.631Z"
   },
   {
    "duration": 20,
    "start_time": "2022-11-27T12:34:29.638Z"
   },
   {
    "duration": 28,
    "start_time": "2022-11-27T12:34:29.659Z"
   },
   {
    "duration": 13,
    "start_time": "2022-11-27T12:34:29.688Z"
   },
   {
    "duration": 23,
    "start_time": "2022-11-27T12:34:29.702Z"
   },
   {
    "duration": 19,
    "start_time": "2022-11-27T12:34:29.727Z"
   },
   {
    "duration": 19,
    "start_time": "2022-11-27T12:34:29.748Z"
   },
   {
    "duration": 26,
    "start_time": "2022-11-27T12:34:38.703Z"
   },
   {
    "duration": 47,
    "start_time": "2022-11-27T12:34:44.046Z"
   },
   {
    "duration": 10,
    "start_time": "2022-11-27T12:34:44.095Z"
   },
   {
    "duration": 12,
    "start_time": "2022-11-27T12:34:44.106Z"
   },
   {
    "duration": 14,
    "start_time": "2022-11-27T12:34:44.119Z"
   },
   {
    "duration": 4,
    "start_time": "2022-11-27T12:34:44.135Z"
   },
   {
    "duration": 17,
    "start_time": "2022-11-27T12:34:44.140Z"
   },
   {
    "duration": 16,
    "start_time": "2022-11-27T12:34:44.159Z"
   },
   {
    "duration": 12,
    "start_time": "2022-11-27T12:34:44.177Z"
   },
   {
    "duration": 4,
    "start_time": "2022-11-27T12:34:44.190Z"
   },
   {
    "duration": 6,
    "start_time": "2022-11-27T12:34:44.196Z"
   },
   {
    "duration": 36,
    "start_time": "2022-11-27T12:34:44.203Z"
   },
   {
    "duration": 10,
    "start_time": "2022-11-27T12:34:44.241Z"
   },
   {
    "duration": 27,
    "start_time": "2022-11-27T12:34:46.492Z"
   },
   {
    "duration": 5,
    "start_time": "2022-11-27T12:34:49.203Z"
   },
   {
    "duration": 13,
    "start_time": "2022-11-27T12:34:51.030Z"
   },
   {
    "duration": 11,
    "start_time": "2022-11-27T12:34:53.092Z"
   },
   {
    "duration": 32,
    "start_time": "2022-11-27T12:35:00.988Z"
   },
   {
    "duration": 7,
    "start_time": "2022-11-27T12:35:11.246Z"
   },
   {
    "duration": 6,
    "start_time": "2022-11-27T12:35:12.651Z"
   },
   {
    "duration": 5,
    "start_time": "2022-11-27T12:35:13.807Z"
   },
   {
    "duration": 10,
    "start_time": "2022-11-27T12:35:14.933Z"
   },
   {
    "duration": 81725,
    "start_time": "2022-11-27T12:35:21.325Z"
   },
   {
    "duration": 79485,
    "start_time": "2022-11-27T12:37:14.751Z"
   },
   {
    "duration": 11,
    "start_time": "2022-11-27T12:38:41.685Z"
   },
   {
    "duration": 587,
    "start_time": "2022-11-27T12:39:07.206Z"
   },
   {
    "duration": 108942,
    "start_time": "2022-11-27T12:39:17.697Z"
   },
   {
    "duration": 75,
    "start_time": "2022-11-27T12:41:25.478Z"
   },
   {
    "duration": 67,
    "start_time": "2022-11-27T12:41:27.749Z"
   },
   {
    "duration": 58,
    "start_time": "2022-11-27T12:41:30.490Z"
   },
   {
    "duration": 4,
    "start_time": "2022-11-27T12:42:00.548Z"
   },
   {
    "duration": 4,
    "start_time": "2022-11-27T12:55:50.053Z"
   },
   {
    "duration": 42,
    "start_time": "2022-11-27T12:57:52.282Z"
   },
   {
    "duration": 453,
    "start_time": "2022-11-27T12:58:09.665Z"
   },
   {
    "duration": 158,
    "start_time": "2022-11-27T12:58:16.215Z"
   },
   {
    "duration": 139,
    "start_time": "2022-11-27T12:58:30.686Z"
   },
   {
    "duration": 179,
    "start_time": "2022-11-27T12:58:46.125Z"
   },
   {
    "duration": 146,
    "start_time": "2022-11-27T12:58:56.228Z"
   },
   {
    "duration": 149,
    "start_time": "2022-11-27T12:59:18.686Z"
   },
   {
    "duration": 146,
    "start_time": "2022-11-27T13:00:01.308Z"
   },
   {
    "duration": 135,
    "start_time": "2022-11-27T13:00:33.110Z"
   },
   {
    "duration": 4,
    "start_time": "2022-11-27T13:02:14.015Z"
   },
   {
    "duration": 53,
    "start_time": "2022-11-27T13:02:14.021Z"
   },
   {
    "duration": 10,
    "start_time": "2022-11-27T13:02:14.075Z"
   },
   {
    "duration": 11,
    "start_time": "2022-11-27T13:02:14.087Z"
   },
   {
    "duration": 23,
    "start_time": "2022-11-27T13:02:14.099Z"
   },
   {
    "duration": 3,
    "start_time": "2022-11-27T13:02:14.124Z"
   },
   {
    "duration": 14,
    "start_time": "2022-11-27T13:02:14.129Z"
   },
   {
    "duration": 12,
    "start_time": "2022-11-27T13:02:14.145Z"
   },
   {
    "duration": 10,
    "start_time": "2022-11-27T13:02:14.160Z"
   },
   {
    "duration": 23,
    "start_time": "2022-11-27T13:02:14.172Z"
   },
   {
    "duration": 50,
    "start_time": "2022-11-27T13:02:14.197Z"
   },
   {
    "duration": 6,
    "start_time": "2022-11-27T13:02:14.249Z"
   },
   {
    "duration": 6,
    "start_time": "2022-11-27T13:02:14.256Z"
   },
   {
    "duration": 6,
    "start_time": "2022-11-27T13:02:14.263Z"
   },
   {
    "duration": 5,
    "start_time": "2022-11-27T13:02:14.271Z"
   },
   {
    "duration": 76863,
    "start_time": "2022-11-27T13:02:14.278Z"
   },
   {
    "duration": 78906,
    "start_time": "2022-11-27T13:03:31.143Z"
   },
   {
    "duration": 98,
    "start_time": "2022-11-27T13:04:50.137Z"
   },
   {
    "duration": 627,
    "start_time": "2022-11-27T13:04:50.237Z"
   },
   {
    "duration": 108471,
    "start_time": "2022-11-27T13:04:50.866Z"
   },
   {
    "duration": 253,
    "start_time": "2022-11-27T13:06:39.339Z"
   },
   {
    "duration": 98,
    "start_time": "2022-11-27T13:06:39.594Z"
   },
   {
    "duration": 72,
    "start_time": "2022-11-27T13:06:39.694Z"
   },
   {
    "duration": 161,
    "start_time": "2022-11-27T13:06:39.768Z"
   },
   {
    "duration": 3,
    "start_time": "2022-11-27T13:08:29.256Z"
   },
   {
    "duration": 254,
    "start_time": "2022-11-27T13:14:22.274Z"
   },
   {
    "duration": 3,
    "start_time": "2022-11-27T13:14:31.733Z"
   }
  ],
  "kernelspec": {
   "display_name": "Python 3 (ipykernel)",
   "language": "python",
   "name": "python3"
  },
  "language_info": {
   "codemirror_mode": {
    "name": "ipython",
    "version": 3
   },
   "file_extension": ".py",
   "mimetype": "text/x-python",
   "name": "python",
   "nbconvert_exporter": "python",
   "pygments_lexer": "ipython3",
   "version": "3.9.12"
  },
  "toc": {
   "base_numbering": 1,
   "nav_menu": {},
   "number_sections": true,
   "sideBar": true,
   "skip_h1_title": true,
   "title_cell": "Содержание",
   "title_sidebar": "Contents",
   "toc_cell": true,
   "toc_position": {},
   "toc_section_display": true,
   "toc_window_display": true
  }
 },
 "nbformat": 4,
 "nbformat_minor": 4
}
